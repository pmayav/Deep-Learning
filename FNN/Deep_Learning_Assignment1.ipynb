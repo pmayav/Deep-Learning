{
 "cells": [
  {
   "cell_type": "markdown",
   "metadata": {
    "id": "T9tjPX03lESJ"
   },
   "source": [
    "# Deep Learning: Assignment 1\n",
    "Patricia Maya"
   ]
  },
  {
   "cell_type": "markdown",
   "metadata": {
    "id": "MvYDE1qSlEST"
   },
   "source": [
    "### 1. Backpropagation (0.5pt)\n",
    "\n",
    "- Draw the computation graph for the following function: $f(a,b,c,d,e) = \\frac{1}{(1+(a^b + c^d)*e)^2}$. Compute the gradient of the function with respect it to its inputs at $(a,b,c,d,e) = (1,1,1,1,1)$."
   ]
  },
  {
   "cell_type": "markdown",
   "metadata": {
    "id": "EZTXFr5GlESU"
   },
   "source": [
    "### 2. Gradient Descent (2pt)\n",
    "\n",
    " - Write a function to compute the mean squared error between a prediction and ground truth assuming both are numpy arrays (see python module `numpy`).\n"
   ]
  },
  {
   "cell_type": "code",
   "execution_count": 4,
   "metadata": {
    "colab": {
     "base_uri": "https://localhost:8080/"
    },
    "id": "WzDi_d-hm62T",
    "outputId": "4373e972-b8fd-4d23-8d26-5188e81580f1"
   },
   "outputs": [
    {
     "data": {
      "text/plain": [
       "1.1525"
      ]
     },
     "execution_count": 4,
     "metadata": {
      "tags": []
     },
     "output_type": "execute_result"
    }
   ],
   "source": [
    "import math, numpy\n",
    "y_labels = numpy.array([2,3,1,4])\n",
    "y_predicted = numpy.array([1.5,2.4,1,2])\n",
    "\n",
    "def mse(y_obs, y_pred):\n",
    "      lenght = len(y_obs)\n",
    "      sqrs = numpy.square(y_obs-y_pred)\n",
    "      sum_sqrs = numpy.sum(sqrs)\n",
    "      return (sum_sqrs/lenght)\n",
    "\n",
    "mse(y_labels, y_predicted)"
   ]
  },
  {
   "cell_type": "markdown",
   "metadata": {
    "id": "RlAPdFOvnHMo"
   },
   "source": [
    " - Consider a model: $y = mx + c$, where the model parameter $m = 1$ and parameter $c = 0$ and $x \\in (0,1)$. Plot the function using matplotlib.\n"
   ]
  },
  {
   "cell_type": "code",
   "execution_count": 5,
   "metadata": {
    "colab": {
     "base_uri": "https://localhost:8080/",
     "height": 282
    },
    "id": "E-70p88pnURc",
    "outputId": "2c41e940-f8b5-4113-c103-7321629aa6a4"
   },
   "outputs": [
    {
     "data": {
      "text/plain": [
       "[<matplotlib.lines.Line2D at 0x7f8677a8d438>]"
      ]
     },
     "execution_count": 5,
     "metadata": {
      "tags": []
     },
     "output_type": "execute_result"
    },
    {
     "data": {
      "image/png": "[encoded data removed]",
      "text/plain": [
       "<Figure size 432x288 with 1 Axes>"
      ]
     },
     "metadata": {
      "needs_background": "light",
      "tags": []
     },
     "output_type": "display_data"
    }
   ],
   "source": [
    "import matplotlib.pyplot as plt\n",
    "\n",
    "m=1\n",
    "c=0 \n",
    "x= numpy.array([0,1])\n",
    "y = m*x + c\n",
    "plt.plot(x,y)\n"
   ]
  },
  {
   "cell_type": "markdown",
   "metadata": {
    "id": "g57JG8dqnJxI"
   },
   "source": [
    "\n",
    " - Generate example data by drawing $N = 100$ uniform values from the range in which $x$ lies, and compute the corresponding $y$ to get $\\{x_i,y_i\\}_{i=1}^{N}$.\n",
    " \n",
    " "
   ]
  },
  {
   "cell_type": "code",
   "execution_count": 6,
   "metadata": {
    "colab": {
     "base_uri": "https://localhost:8080/"
    },
    "id": "zlco9j_ZnUwX",
    "outputId": "151d7ead-1424-4308-aaf2-bf7a77fc6d8b"
   },
   "outputs": [
    {
     "data": {
      "text/plain": [
       "array([0.  , 0.01, 0.02, 0.03, 0.04, 0.05, 0.06, 0.07, 0.08, 0.09, 0.1 ,\n",
       "       0.11, 0.12, 0.13, 0.14, 0.15, 0.16, 0.17, 0.18, 0.19, 0.2 , 0.21,\n",
       "       0.22, 0.23, 0.24, 0.25, 0.26, 0.27, 0.28, 0.29, 0.3 , 0.31, 0.32,\n",
       "       0.33, 0.34, 0.35, 0.36, 0.37, 0.38, 0.39, 0.4 , 0.41, 0.42, 0.43,\n",
       "       0.44, 0.45, 0.46, 0.47, 0.48, 0.49, 0.5 , 0.51, 0.52, 0.53, 0.54,\n",
       "       0.55, 0.56, 0.57, 0.58, 0.59, 0.6 , 0.61, 0.62, 0.63, 0.64, 0.65,\n",
       "       0.66, 0.67, 0.68, 0.69, 0.7 , 0.71, 0.72, 0.73, 0.74, 0.75, 0.76,\n",
       "       0.77, 0.78, 0.79, 0.8 , 0.81, 0.82, 0.83, 0.84, 0.85, 0.86, 0.87,\n",
       "       0.88, 0.89, 0.9 , 0.91, 0.92, 0.93, 0.94, 0.95, 0.96, 0.97, 0.98,\n",
       "       0.99])"
      ]
     },
     "execution_count": 6,
     "metadata": {
      "tags": []
     },
     "output_type": "execute_result"
    }
   ],
   "source": [
    "# 1/100 = .01\n",
    "x = numpy.arange(0, 1, .01) #Returns evenly spaced values within a given interval. (0,1)\n",
    "y = m * x + c\n",
    "y"
   ]
  },
  {
   "cell_type": "markdown",
   "metadata": {
    "id": "cfnXMrsPnNB9"
   },
   "source": [
    "- Assuming that you do not know the model parameters, use backpropagation and gradient descent updates to find the model parameters (choose an appropriate learning rate). The loss function will be the mean squared error.\n",
    " "
   ]
  },
  {
   "cell_type": "code",
   "execution_count": 7,
   "metadata": {
    "colab": {
     "base_uri": "https://localhost:8080/"
    },
    "id": "MdQGHOZxnVPt",
    "outputId": "194874b0-1c72-4374-f168-4784edc4e7f3"
   },
   "outputs": [
    {
     "name": "stdout",
     "output_type": "stream",
     "text": [
      "iteration 0: loss 0.054011402404437275\n",
      "iteration 10: loss 0.03211161223693041\n",
      "iteration 20: loss 0.02458913867971873\n",
      "iteration 30: loss 0.01884992721267147\n",
      "iteration 40: loss 0.014450335111639583\n",
      "iteration 50: loss 0.011077612448229652\n",
      "iteration 60: loss 0.008492086627271052\n",
      "iteration 70: loss 0.006510025117968365\n",
      "iteration 80: loss 0.004990578746627568\n",
      "iteration 90: loss 0.003825772677519771\n",
      "iteration 100: loss 0.002932833509529843\n",
      "iteration 110: loss 0.0022483072361208487\n",
      "iteration 120: loss 0.0017235500793237038\n",
      "iteration 130: loss 0.0013212717675819812\n",
      "iteration 140: loss 0.0010128856160038148\n",
      "iteration 150: loss 0.0007764771005324403\n",
      "iteration 160: loss 0.0005952465689363608\n",
      "iteration 170: loss 0.00045631542461142816\n",
      "iteration 180: loss 0.0003498109482770808\n",
      "iteration 190: loss 0.00026816472320371815\n",
      "iteration 200: loss 0.0002055748086934258\n",
      "Final loss (MSE): 0.00016183830395418632 , where m: 0.00016183830395418632 and c:1.0431733024594703\n"
     ]
    }
   ],
   "source": [
    "mses = []\n",
    "numpy.random.seed(11)\n",
    "# Initialize parameters randomly\n",
    "m = numpy.random.randn()\n",
    "c = numpy.random.randn()\n",
    "\n",
    "# Batch size == number of examples for simplicity\n",
    "N = x.shape[0]\n",
    "\n",
    "#Initial value for the Gradient Descent Parameter\n",
    "step_size = 0.1 #Also called learning rate\n",
    "\n",
    "#Gradient descent loop\n",
    "for i in range(210):\n",
    "  \n",
    "    # Evaluate class scores\n",
    "    y_pred = numpy.dot(x, m) + c\n",
    "  \n",
    "    # Compute the loss with mse\n",
    "    loss = mse(y , y_pred)\n",
    "    mses.append(loss)\n",
    "    if i % 10 == 0:\n",
    "        print(\"iteration {0}: loss {1}\".format(i, loss))\n",
    "\n",
    "#mse = (y-y_pred)^2 / N\n",
    "#gradients:\n",
    "#dmse / dpred = 2 / (N* sum(y - y_pred))\n",
    "#derror / dpred = -1\n",
    "#dpred / dm = x\n",
    "#dpred / dc = 1\n",
    "\n",
    "    dm = -(2/N)*numpy.dot(y - y_pred, x)\n",
    "    dc = -(2/N)*numpy.sum(y - y_pred)\n",
    "  \n",
    "    # Perform parameter update of m & c\n",
    "    m += -step_size * dm\n",
    "    c += -step_size * dc\n",
    "\n",
    "#Parameters found are: \n",
    "print(\"Final loss (MSE): {0} , where m: {0} and c:{1}\".format(loss, m, c))"
   ]
  },
  {
   "cell_type": "markdown",
   "metadata": {
    "id": "EsJuGPZFnNWd"
   },
   "source": [
    "- Plot the error in the estimates as a function of the number of iterations of gradient update. Change the learning rate and plot another curve on the previous plot. \n",
    " "
   ]
  },
  {
   "cell_type": "code",
   "execution_count": 8,
   "metadata": {
    "colab": {
     "base_uri": "https://localhost:8080/",
     "height": 295
    },
    "id": "fSkLKovWIPTs",
    "outputId": "c3067fdc-ab19-40fb-ea0b-d44bdf0c4533"
   },
   "outputs": [
    {
     "data": {
      "image/png": "[encoded data removed]",
      "text/plain": [
       "<Figure size 432x288 with 1 Axes>"
      ]
     },
     "metadata": {
      "needs_background": "light",
      "tags": []
     },
     "output_type": "display_data"
    }
   ],
   "source": [
    "#graph when learning rate= 0.1\n",
    "plt.title('MSE vs Gradient Update Iterations Analysis')\n",
    "plt.xlabel('Gradient Descent Iterations')\n",
    "plt.ylabel('MSE')\n",
    "plt.plot(range(210), mses,  label=step_size)\n",
    "plt.legend()\n",
    "\n",
    "#### **** CHANGING THE LEARNING RATE\n",
    "mses1= []\n",
    "numpy.random.seed(11)\n",
    "m1 = numpy.random.randn()\n",
    "c1 = numpy.random.randn()\n",
    "N1 = x.shape[0]\n",
    "step_size1 = 0.5 #learning rate\n",
    "for i in range(210):\n",
    "    y_pred = numpy.dot(x, m1) + c1\n",
    "    loss = mse(y , y_pred)\n",
    "    mses1.append(loss)\n",
    "    dm1 = -(2/N)*numpy.dot(y - y_pred, x)\n",
    "    dc1 = -(2/N)*numpy.sum(y - y_pred)\n",
    "    m1 += -step_size1 * dm1\n",
    "    c1 += -step_size1 * dc1\n",
    "\n",
    "#graph when learning rate= 0.5\n",
    "plt.title('MSE vs Gradient Update Iterations y=mx+c')\n",
    "plt.xlabel('Gradient Descent Iterations')\n",
    "plt.ylabel('MSE')\n",
    "#ax.plot(xvals, mses, label=step_size)\n",
    "#ax.plot(xvals, mses1, label=step_size1)\n",
    "plt.plot(range(210),mses1,  label=step_size1)\n",
    "plt.legend()\n",
    "plt.show()"
   ]
  },
  {
   "cell_type": "markdown",
   "metadata": {
    "id": "t3h8Att9nNhO"
   },
   "source": [
    "- Do steps 3-5 when the model is $y = m_1x + m_2x^2 + c$ and the true parameters are $m_1 = 0.5$, $m_2 = 1$ and $c = 1$. And $x \\in (0,1)$. **Also, plot the ground truth function.** Compare and contrast the plot with the previous one.\n",
    " "
   ]
  },
  {
   "cell_type": "code",
   "execution_count": 9,
   "metadata": {
    "colab": {
     "base_uri": "https://localhost:8080/",
     "height": 593
    },
    "id": "mTmhPa6qSIKd",
    "outputId": "130b18fa-ba49-418a-f678-5238876b5111"
   },
   "outputs": [
    {
     "name": "stdout",
     "output_type": "stream",
     "text": [
      "Final loss(MSE) w/ LR= 0.1: 0.0035535009569946153 , where m1: 1.31562763213156 , m2: 0.46216544726773146and c:0.8535902792122042\n",
      "Final loss(MSE) w/ LR= 0.5: 0.0013216074604407478 , where m1: 0.9954703491338673 , m2: 0.7212719336785377and c:0.9119986523036191\n"
     ]
    },
    {
     "data": {
      "image/png": "[encoded data removed]",
      "text/plain": [
       "<Figure size 432x288 with 1 Axes>"
      ]
     },
     "metadata": {
      "needs_background": "light",
      "tags": []
     },
     "output_type": "display_data"
    },
    {
     "data": {
      "image/png": "[encoded data removed]",
      "text/plain": [
       "<Figure size 432x288 with 1 Axes>"
      ]
     },
     "metadata": {
      "needs_background": "light",
      "tags": []
     },
     "output_type": "display_data"
    }
   ],
   "source": [
    "#f(m,x,c)=m1*x+m2*x^2+c\n",
    "m1 = 0.5\n",
    "m2 = 1\n",
    "c = 1 \n",
    "x= numpy.arange(0, 1, .01) #Returns evenly spaced values within a given interval. (0,1)\n",
    "y = m1*x+m2*x**2+c\n",
    "#plt.plot(x,y, label=\"m1x+m2x^2+c\")\n",
    "#plt.legend()\n",
    "\n",
    "mses2 = []\n",
    "numpy.random.seed(10)\n",
    "# Initialize parameters randomly\n",
    "m1 = numpy.random.randn()\n",
    "m2 = numpy.random.randn()\n",
    "c = numpy.random.randn()\n",
    "\n",
    "# Batch size == number of examples for simplicity\n",
    "N = x.shape[0]\n",
    "\n",
    "#Initial value for the Gradient Descent Parameter\n",
    "step_size = 0.1 #Also called learning rate\n",
    "\n",
    "#Gradient descent loop\n",
    "for i in range(210):\n",
    "  \n",
    "    # Evaluate class scores\n",
    "    y_pred = numpy.dot(x, m1) + (numpy.dot(x, m2)**2) + c \n",
    "    # Compute the loss with mse\n",
    "    loss = mse(y , y_pred)\n",
    "    mses2.append(loss)\n",
    "\n",
    "#mse = (y-y_pred)^2 / N\n",
    "#gradients: \n",
    "#dmse / dpred = 2 / (N* sum(y - y_pred))\n",
    "#derror / dpred = -1\n",
    "#dpred / dm1 = x\n",
    "#dpred / dm2 = x^2\n",
    "#dpred / dc = 1\n",
    "\n",
    "    dm1 = -(2/N)*numpy.dot(y - y_pred, x)\n",
    "    dm2 = -(2/N)*numpy.dot(y - y_pred, x**2)\n",
    "    dc =  -(2/N)*numpy.sum(y - y_pred)\n",
    "  \n",
    "    # Perform parameter update of m1, m2 & c\n",
    "    m1 += -step_size * dm1\n",
    "    m2 += -step_size * dm2\n",
    "    c += -step_size * dc\n",
    "#Parameters found are: \n",
    "print(\"Final loss(MSE) w/ LR= 0.1: {0} , where m1: {1} , m2: {2}and c:{3}\".format(loss, m1,m2, c))\n",
    "\n",
    "\n",
    "### --------- CHANGING THE LEARNING RATE ------\n",
    "mses3 = []\n",
    "numpy.random.seed(10)\n",
    "m1_1 = numpy.random.randn()\n",
    "m2_1 = numpy.random.randn()\n",
    "c_1 = numpy.random.randn()\n",
    "N_1 = x.shape[0]\n",
    "step_size_1 = 0.5 #learning rate\n",
    "#Gradient descent loop\n",
    "for i in range(210):\n",
    "    y_pred = numpy.dot(x, m1_1) + (numpy.dot(x, m2_1)**2) + c_1     #y_pred = m1*x+m2*x**2+c\n",
    "    loss = mse(y , y_pred)\n",
    "    mses3.append(loss)\n",
    "    dm1_1 = -(2/N_1)*numpy.dot(y - y_pred, x)\n",
    "    dm2_1 = -(2/N_1)*numpy.dot(y - y_pred, x**2)\n",
    "    dc_1 =  -(2/N_1)*numpy.sum(y - y_pred)\n",
    "  \n",
    "    # Perform parameter update of m1, m2 & c\n",
    "    m1_1 += -step_size_1 * dm1_1\n",
    "    m2_1 += -step_size_1 * dm2_1\n",
    "    c_1 += -step_size_1 * dc_1\n",
    "#Parameters found are: \n",
    "print(\"Final loss(MSE) w/ LR= 0.5: {0} , where m1: {1} , m2: {2}and c:{3}\".format(loss, m1_1,m2_1, c_1))\n",
    "\n",
    "### --------------- PLOTTING RESULTS ----------------------\n",
    "\n",
    "#graph when learning rate= 0.1\n",
    "plt.title('MSE vs Gradient Update Iterations Analysis ')\n",
    "plt.xlabel('Gradient Descent Iterations')\n",
    "plt.ylabel('MSE')\n",
    "plt.plot(range(210), mses2,  label=step_size)\n",
    "plt.legend() \n",
    "#graph when learning rate= 0.5\n",
    "plt.title('MSE vs Gradient Update Iterations (y=m1x+m2x^2+c)')\n",
    "plt.xlabel('Gradient Descent Iterations')\n",
    "plt.ylabel('MSE')\n",
    "plt.plot(range(210), mses3,  label=step_size_1)\n",
    "plt.legend()\n",
    "plt.show()\n",
    "\n",
    "plt.title('Ground Truth function y=m1x+m2x^2+c when m1=0.5, m2=1 and c=1')\n",
    "y_new= numpy.dot(x, m1) + (numpy.dot(x, m2)**2) + c\n",
    "plt.plot(x, y_new, label=step_size)\n",
    "plt.legend()\n",
    "plt.title('Ground Truth function y=m1x+m2x^2+c when m1=0.5, m2=1 and c=1')\n",
    "y_new= numpy.dot(x, m1_1) + (numpy.dot(x, m2_1)**2) + c_1\n",
    "plt.plot(x, y_new, label=step_size_1)\n",
    "plt.legend()\n",
    "plt.title('Ground Truth function y=m1x+m2x^2+c when m1=0.5, m2=1 and c=1')\n",
    "y_new= numpy.dot(x, 0.5) + (numpy.dot(x, 1)**2) + 1\n",
    "plt.plot(x, y_new, label='Original Function')\n",
    "plt.legend()\n",
    "plt.show()"
   ]
  },
  {
   "cell_type": "markdown",
   "metadata": {
    "id": "PpWo02kJLJwo"
   },
   "source": [
    "From these figures we can see that as we increase the learning rate, the overall mean squared error decreases faster. Also, the function gotten from using a higher learning rates seems to approximate the ground truth function better."
   ]
  },
  {
   "cell_type": "markdown",
   "metadata": {
    "id": "knpL09U5nNqL"
   },
   "source": [
    "- Do steps 3-5 when the model is $y = \\tanh(m*x + c)$ and the true parameters are $m = 1$ and $c = 2$. And $x \\in (0,2)$. Also, **plot the ground truth function.**"
   ]
  },
  {
   "cell_type": "code",
   "execution_count": 10,
   "metadata": {
    "colab": {
     "base_uri": "https://localhost:8080/",
     "height": 797
    },
    "id": "lAQMWtAPj3Ib",
    "outputId": "e1d0dac2-d064-4439-d5fb-f41a916491fc"
   },
   "outputs": [
    {
     "name": "stdout",
     "output_type": "stream",
     "text": [
      "Final loss(MSE) w/ LR= 0.1: 0.0024786677315178332 , where m: 1.9878397227866007 and c: 1.1604411747410237\n",
      "Final loss(MSE) w/ LR= 0.5: 0.006156801101814571 , where m: 1.9623546191616492 and c: 0.9700240332395756\n"
     ]
    },
    {
     "name": "stderr",
     "output_type": "stream",
     "text": [
      "/usr/local/lib/python3.6/dist-packages/matplotlib/backends/backend_agg.py:214: RuntimeWarning: Glyph 119898 missing from current font.\n",
      "  font.set_text(s, 0.0, flags=flags)\n",
      "/usr/local/lib/python3.6/dist-packages/matplotlib/backends/backend_agg.py:214: RuntimeWarning: Glyph 119909 missing from current font.\n",
      "  font.set_text(s, 0.0, flags=flags)\n",
      "/usr/local/lib/python3.6/dist-packages/matplotlib/backends/backend_agg.py:214: RuntimeWarning: Glyph 119888 missing from current font.\n",
      "  font.set_text(s, 0.0, flags=flags)\n",
      "/usr/local/lib/python3.6/dist-packages/matplotlib/backends/backend_agg.py:183: RuntimeWarning: Glyph 119898 missing from current font.\n",
      "  font.set_text(s, 0, flags=flags)\n",
      "/usr/local/lib/python3.6/dist-packages/matplotlib/backends/backend_agg.py:183: RuntimeWarning: Glyph 119909 missing from current font.\n",
      "  font.set_text(s, 0, flags=flags)\n",
      "/usr/local/lib/python3.6/dist-packages/matplotlib/backends/backend_agg.py:183: RuntimeWarning: Glyph 119888 missing from current font.\n",
      "  font.set_text(s, 0, flags=flags)\n"
     ]
    },
    {
     "data": {
      "image/png": "[encoded data removed]",
      "text/plain": [
       "<Figure size 432x288 with 1 Axes>"
      ]
     },
     "metadata": {
      "needs_background": "light",
      "tags": []
     },
     "output_type": "display_data"
    },
    {
     "data": {
      "image/png": "[encoded data removed]",
      "text/plain": [
       "<Figure size 432x288 with 1 Axes>"
      ]
     },
     "metadata": {
      "needs_background": "light",
      "tags": []
     },
     "output_type": "display_data"
    }
   ],
   "source": [
    "# y=tanh(𝑚𝑥+𝑐)\n",
    "m = 1\n",
    "c = 2\n",
    "x = numpy.arange(0,1.,.01)\n",
    "y = numpy.tanh(1*x + 2)\n",
    "#plt.plot(x,y)\n",
    "\n",
    "mses_tanh = []\n",
    "numpy.random.seed(7)\n",
    "# Initialize parameters randomly\n",
    "m = numpy.random.randn()\n",
    "c = numpy.random.randn()\n",
    "# Batch size == number of examples for simplicity\n",
    "N = x.shape[0]\n",
    "#Initial value for the Gradient Descent Parameter\n",
    "step_size = 0.1 #learning rate\n",
    "#Gradient descent loop\n",
    "for i in range(210):\n",
    "    # Evaluate class scores\n",
    "    y_pred = numpy.tanh(numpy.dot(x, m) + c)\n",
    "    # Compute the loss with mse\n",
    "    loss = mse(y , y_pred)\n",
    "    mses_tanh.append(loss)\n",
    "#mse = (y-y_pred)^2 / N\n",
    "#gradients: \n",
    "#dmse / dpred = 2 / (N* sum(y - y_pred))    ,             dtanh = 1- np.square(np.add(np.multiply(x,m),c))\n",
    "#derror / dpred = -1   \n",
    "#dpred / dm = x*sech^2(mx+c) OR x*(1-(tanh(mx+c))^2)   -------  np.multiply(X.T,(1- np.square(np.tanh(np.add(np.multiply(x,m),c)))\n",
    "#dpred / dc = sech^2(mx+c) OR 1-(tanh(mx+c))^2 ------- 1- np.square(np.add(np.multiply(x,m),c))\n",
    "    dm = -(2/N_1)*numpy.dot(y - y_pred, numpy.multiply(x.T, 1 - numpy.square(numpy.tanh(numpy.add(numpy.multiply(x,m),c)))))\n",
    "    dc = -(2/N_1)*numpy.dot(y - y_pred, 1 - numpy.square(numpy.tanh(numpy.add(numpy.multiply(x,m),c))))\n",
    "    # Perform parameter update of m1, m2 & c\n",
    "    m += -step_size * dm\n",
    "    c += -step_size * dc\n",
    "#Parameters found are: \n",
    "print(\"Final loss(MSE) w/ LR= 0.1: {0} , where m: {1} and c: {2}\".format(loss, m, c))\n",
    "#graph when learning rate= 0.1\n",
    "plt.title('MSE vs Gradient Update Iterations Analysis ')\n",
    "plt.xlabel('Gradient Descent Iterations')\n",
    "plt.ylabel('MSE')\n",
    "plt.plot(range(210), mses_tanh,  label=step_size)\n",
    "plt.legend()\n",
    "\n",
    "########## CHANGING THE LEARNING RATE\n",
    "mses_tanh1 = []\n",
    "numpy.random.seed(7)\n",
    "# Initialize parameters randomly\n",
    "m_1 = numpy.random.randn()\n",
    "c_1 = numpy.random.randn()\n",
    "N_1 = x.shape[0]\n",
    "#Initial value for the Gradient Descent Parameter\n",
    "step_size1 = 0.05 #learning rate\n",
    "for i in range(210):\n",
    "    y_pred = numpy.tanh(numpy.dot(x, m_1) + c_1)\n",
    "    loss1 = mse(y , y_pred)\n",
    "    mses_tanh1.append(loss1)\n",
    "    dm1 = -(2/N_1)*numpy.dot(y - y_pred, numpy.multiply(x.T, 1 - numpy.square(numpy.tanh(numpy.add(numpy.multiply(x,m_1),c_1)))))\n",
    "    dc1 = -(2/N_1)*numpy.dot(y - y_pred, 1 - numpy.square(numpy.tanh(numpy.add(numpy.multiply(x,m_1),c_1))))\n",
    "    m_1 += -step_size1 * dm1\n",
    "    c_1 += -step_size1 * dc1\n",
    "#Parameters found are: \n",
    "print(\"Final loss(MSE) w/ LR= 0.5: {0} , where m: {1} and c: {2}\".format(loss1, m_1, c_1))\n",
    "\n",
    "#graph when learning rate= 0.1\n",
    "plt.title('MSE vs Gradient Update Iterations (y=tanh(𝑚𝑥+𝑐))')\n",
    "plt.xlabel('Gradient Descent Iterations')\n",
    "plt.ylabel('MSE')\n",
    "plt.plot(range(210), mses_tanh1,  label=step_size1)\n",
    "plt.legend()\n",
    "plt.show()\n",
    "\n",
    "plt.title('Ground Truth function y=tanh(xm+c) when m=1 and c=2')\n",
    "plt.plot(x, numpy.tanh(m*x + c), label=step_size)\n",
    "plt.legend()\n",
    "plt.title('Ground Truth function y=tanh(xm+c) when m=1 and c=2')\n",
    "plt.plot(x, numpy.tanh(m_1*x + c_1), label=step_size1)\n",
    "plt.legend()\n",
    "plt.title('Ground Truth function y=tanh(xm+c) when m=1 and c=2')\n",
    "plt.plot(x, numpy.tanh(1*x + 2), label='Original Function')\n",
    "plt.legend()\n",
    "plt.show()"
   ]
  },
  {
   "cell_type": "markdown",
   "metadata": {
    "id": "gnRFLpfvlESU"
   },
   "source": [
    "### 3. ML Basics (0.5pt)\n",
    "\n",
    " - Write a function to compute the ({multiclass}) logistic loss ({also called the cross-entropy loss}) given the parameters $(W,b)$ of a linear model (as \\emph{numpy} arrays) and an example $(x,y)$. \n"
   ]
  },
  {
   "cell_type": "code",
   "execution_count": 11,
   "metadata": {
    "id": "rcDSXbDB6ILU"
   },
   "outputs": [],
   "source": [
    "# Cross-entropy loss  = - log q(x)  when x,y are numpy arrays\n",
    "def cross_entropy_multiclass(x, y, w, b):\n",
    "  num_examples = x.shape[0]\n",
    "  #evaluate class scores\n",
    "  scores = numpy.dot(x, w) + b \n",
    "  # compute the class probabilities\n",
    "  exp_scores = numpy.exp(scores)\n",
    "  probs = exp_scores / numpy.sum(exp_scores, axis=1, keepdims=True)\n",
    "  # compute the loss: average cross-entropy loss \n",
    "  corect_logprobs = -numpy.log(probs[range(num_examples),y])\n",
    "  data_loss = numpy.sum(corect_logprobs)/num_examples\n"
   ]
  },
  {
   "cell_type": "markdown",
   "metadata": {
    "id": "L9AU6eBfFkKn"
   },
   "source": [
    " - Add an $\\ell_1$ regularization and an $\\ell_2$ regularization to the loss function."
   ]
  },
  {
   "cell_type": "code",
   "execution_count": 12,
   "metadata": {
    "id": "f7XJ5Oo9FlgQ"
   },
   "outputs": [],
   "source": [
    "# Cross-entropy loss with regularization terms L1 & L2\n",
    "def cross_entropy_multiclass_REG(x, y, w, b, L1=1e-3, L2=1e-3):\n",
    "  num_examples = x.shape[0]\n",
    "  #evaluate class scores\n",
    "  scores = numpy.dot(x, w) + b \n",
    "  # compute the class probabilities\n",
    "  exp_scores = numpy.exp(scores)\n",
    "  probs = exp_scores / numpy.sum(exp_scores, axis=1, keepdims=True)\n",
    "  # compute the loss: average cross-entropy loss \n",
    "  corect_logprobs = -numpy.log(probs[range(num_examples),y])\n",
    "  data_loss = numpy.sum(corect_logprobs)/num_examples\n",
    "  \n",
    "  # L1 & L2 regularization terms\n",
    "  L1_reg = 0.5 * L1 * numpy.sum(numpy.abs(w))     #λ sigma|w|\n",
    "  L2_reg = 0.5 * L2 * numpy.sum(numpy.square(w))  #λ sigma w^2\n",
    "  reg_loss = L1_reg + L2_reg\n",
    "  loss = data_loss + reg_loss\n",
    "  if i % 1000 == 0:\n",
    "    print(\"iteration {0}: loss {1}\".format(i, loss))"
   ]
  },
  {
   "cell_type": "markdown",
   "metadata": {
    "id": "U37Ey2OxlESV"
   },
   "source": [
    "### 4. Classification Pipeline (2.5pt)\n",
    "\n",
    " -  Generate data from \\textit{Data\\_Linear\\_Classifier.ipynb} (refer to the corresponding lecture).\n",
    " "
   ]
  },
  {
   "cell_type": "code",
   "execution_count": 13,
   "metadata": {
    "colab": {
     "base_uri": "https://localhost:8080/",
     "height": 282
    },
    "id": "6aYH6-egQO9O",
    "outputId": "d7657d30-651b-414b-ed54-b9e58793d45f"
   },
   "outputs": [
    {
     "data": {
      "text/plain": [
       "<matplotlib.collections.PathCollection at 0x7f86779fab00>"
      ]
     },
     "execution_count": 13,
     "metadata": {
      "tags": []
     },
     "output_type": "execute_result"
    },
    {
     "data": {
      "image/png": "[encoded data removed]",
      "text/plain": [
       "<Figure size 432x288 with 1 Axes>"
      ]
     },
     "metadata": {
      "needs_background": "light",
      "tags": []
     },
     "output_type": "display_data"
    }
   ],
   "source": [
    "import numpy as np\n",
    "import pickle\n",
    "import matplotlib.pyplot as plt\n",
    "\n",
    "N = 100 # number of points per class\n",
    "D = 2 # dimensionality\n",
    "K = 3 # number of classes\n",
    "X = np.zeros((N*K,D))\n",
    "y = np.zeros(N*K, dtype='uint8')\n",
    "for j in range(K):\n",
    "  ix = range(N*j,N*(j+1))\n",
    "  r = np.linspace(0.0,1,N) # radius\n",
    "  t = np.linspace(j*4,(j+1)*4,N) + np.random.randn(N)*0.2 # theta\n",
    "  X[ix] = np.c_[r*np.sin(t), r*np.cos(t)]\n",
    "  y[ix] = j\n",
    "\n",
    "pickle.dump(X,open('dataX.pickle','wb'))\n",
    "pickle.dump(y,open('dataY.pickle','wb'))\n",
    "\n",
    "\n",
    "#To read data for this experiment\n",
    "import pickle \n",
    "#Read data\n",
    "X = pickle.load(open('dataX.pickle','rb'))  #'rb' : reading binary\n",
    "y = pickle.load(open('dataY.pickle','rb')) \n",
    "\n",
    "#Define some local varaibles\n",
    "D = X.shape[1] #Number of features\n",
    "K = max(y)+1 #Number of classes assuming class index starts from 0\n",
    "\n",
    "#Plot the data\n",
    "fig = plt.figure()\n",
    "plt.scatter(X[:, 0], X[:, 1], c=y, s=40, cmap=plt.cm.Spectral)"
   ]
  },
  {
   "cell_type": "markdown",
   "metadata": {
    "id": "Uij4D05TP7IW"
   },
   "source": [
    "-  Split the data into test and train (20\\%:80\\%).\n"
   ]
  },
  {
   "cell_type": "code",
   "execution_count": 83,
   "metadata": {
    "id": "Ah8GG7yZQPde"
   },
   "outputs": [],
   "source": [
    "from sklearn.model_selection import train_test_split\n",
    "X_train, X_test, y_train, y_test = train_test_split(X, y, test_size=0.20, random_state=42)"
   ]
  },
  {
   "cell_type": "markdown",
   "metadata": {
    "id": "f5e5hgeOP8_H"
   },
   "source": [
    " -  Build a linear classifier assuming the multiclass logistic loss and an $\\ell_2$ regularization for the weights only. Report the prediction accuracy on the training data and the test data and show appropriate plots.\n",
    " "
   ]
  },
  {
   "cell_type": "code",
   "execution_count": 19,
   "metadata": {
    "colab": {
     "base_uri": "https://localhost:8080/",
     "height": 649
    },
    "id": "sOYwTQfGQP9r",
    "outputId": "96e62545-b97b-4455-ae7b-4cc111232b55"
   },
   "outputs": [
    {
     "name": "stdout",
     "output_type": "stream",
     "text": [
      "Performance - training data:\n"
     ]
    },
    {
     "data": {
      "image/png": "[encoded data removed]",
      "text/plain": [
       "<Figure size 432x288 with 1 Axes>"
      ]
     },
     "metadata": {
      "needs_background": "light",
      "tags": []
     },
     "output_type": "display_data"
    },
    {
     "name": "stdout",
     "output_type": "stream",
     "text": [
      "Train Accuracy:\n",
      "0.5291666666666667\n",
      " \n",
      " \n",
      "Performance - test data:\n"
     ]
    },
    {
     "data": {
      "image/png": "[encoded data removed]",
      "text/plain": [
       "<Figure size 432x288 with 1 Axes>"
      ]
     },
     "metadata": {
      "needs_background": "light",
      "tags": []
     },
     "output_type": "display_data"
    },
    {
     "name": "stdout",
     "output_type": "stream",
     "text": [
      "Test Accuracy:\n",
      "0.5166666666666667\n"
     ]
    }
   ],
   "source": [
    "# LINEAR CLASSIFIER w/ multiclass logistic loss & L2 regularization only\n",
    "# Initializing parameters randomly\n",
    "L2= 1e-3\n",
    "W = 0.01 * np.random.randn(D,K)\n",
    "b = np.zeros((1,K))\n",
    "# Initial values from hyperparameter\n",
    "reg = 0.1 # regularization strength \n",
    "\n",
    "#batch size ==  number of training examples\n",
    "num_examples = X_train.shape[0]\n",
    "\n",
    "#Initial value for the Gradient Descent Parameter\n",
    "step_size = 1e-0 #Also called learning rate\n",
    "\n",
    "# gradient descent loop\n",
    "for i in range(200):\n",
    "    num_examples = X_train.shape[0]\n",
    "    #evaluate class scores\n",
    "    scores = np.dot(X_train, W) + b \n",
    "    # compute the class probabilities\n",
    "    exp_scores = np.exp(scores)\n",
    "    probs = exp_scores / np.sum(exp_scores, axis=1, keepdims=True)\n",
    "    # compute the loss: average cross-entropy loss \n",
    "    corect_logprobs = -np.log(probs[range(num_examples),y_train])\n",
    "    data_loss = np.sum(corect_logprobs)/num_examples\n",
    "    # L2 regularization term\n",
    "    L2_reg = L2 * np.sum(np.square(W))  #λ sigma w^2\n",
    "    reg_loss = L2_reg\n",
    "    loss = data_loss + reg_loss\n",
    "    #if i % 10 == 0:\n",
    "      #print(\"iteration {0}: loss {1}\".format(i, loss))\n",
    "\n",
    "    # compute the gradient on scores\n",
    "    dscores = probs\n",
    "    dscores[range(num_examples),y_train] -= 1\n",
    "    dscores /= num_examples\n",
    "  \n",
    "    # backpropate the gradient to the parameters (W,b)\n",
    "    dW = np.dot(X_train.T, dscores)\n",
    "    db = np.sum(dscores, axis=0, keepdims=True)\n",
    "    # regularization gradient\n",
    "    dW += reg*W \n",
    "    # perform a parameter update\n",
    "    W += -step_size * dW\n",
    "    b += -step_size * db\n",
    "\n",
    "###### EVALUATION OF MODEL\n",
    "def plot_results(X, y, W, b):\n",
    "    h = 0.02\n",
    "    x_min, x_max = X[:, 0].min() - 1, X[:, 0].max() + 1\n",
    "    y_min, y_max = X[:, 1].min() - 1, X[:, 1].max() + 1\n",
    "    xx, yy = np.meshgrid(np.arange(x_min, x_max, h), np.arange(y_min, y_max, h))\n",
    "    Z = np.dot(np.c_[xx.ravel(), yy.ravel()], W) + b\n",
    "    Z = np.argmax(Z, axis=1)\n",
    "    Z = Z.reshape(xx.shape)\n",
    "    fig = plt.figure()\n",
    "    plt.contourf(xx, yy, Z, cmap=plt.cm.Spectral, alpha=0.8)\n",
    "    plt.scatter(X[:, 0], X[:, 1], c=y, s=40, cmap=plt.cm.Spectral)\n",
    "    plt.xlim(xx.min(), xx.max())\n",
    "    plt.ylim(yy.min(), yy.max())\n",
    "    plt.show()\n",
    "\n",
    "print('Performance - training data:')\n",
    "plot_results(X_train, y_train , W , b)\n",
    "# Train Accuracy\n",
    "scores = np.dot(X_train, W) + b\n",
    "predicted_class = np.argmax(scores, axis=1)\n",
    "print(\"Train Accuracy:\")\n",
    "print(np.mean(predicted_class == y_train))\n",
    "print(' ')\n",
    "print(' ')\n",
    "\n",
    "# Test Accuracy\n",
    "scores = np.dot(X_test, W) + b\n",
    "predicted_class = np.argmax(scores, axis=1)\n",
    "print('Performance - test data:')\n",
    "plot_results(X_test , y_test , W , b)\n",
    "print(\"Test Accuracy:\")\n",
    "print(np.mean(predicted_class == y_test))"
   ]
  },
  {
   "cell_type": "markdown",
   "metadata": {
    "id": "49WHScLsP_pK"
   },
   "source": [
    "-  Introduce a cross validation scheme and justify your choice of parameters. What is the validation accuracy compare to the test accuracy.\n",
    " "
   ]
  },
  {
   "cell_type": "code",
   "execution_count": 84,
   "metadata": {
    "colab": {
     "base_uri": "https://localhost:8080/"
    },
    "id": "21G_DpOAQQaW",
    "outputId": "551a7bd6-bac2-4bb3-92ab-b1e7589aa379"
   },
   "outputs": [
    {
     "name": "stdout",
     "output_type": "stream",
     "text": [
      "Step size: 0.5 where W: [[ 0.0960158   0.18215602 -0.27817182]\n",
      " [-0.25997571  0.28101329 -0.02103758]] b: [[ 0.03862572  0.12068627 -0.15931198]] , has loss: 1.0045572733791295 & accuracy: 0.5944444444444444\n",
      "Step size: 0.5 where W: [[ 0.10926696  0.13013313 -0.23940009]\n",
      " [-0.20995925  0.27406843 -0.06410917]] b: [[-0.02683056  0.07024566 -0.0434151 ]] , has loss: 1.0293679206657427 & accuracy: 0.5777777777777777\n",
      "Step size: 0.5 where W: [[ 0.13821022  0.12977394 -0.26798417]\n",
      " [-0.26002259  0.27828069 -0.0182581 ]] b: [[ 0.06268461  0.03985582 -0.10254043]] , has loss: 1.0132705252266276 & accuracy: 0.5777777777777777\n",
      "Step size: 0.5 where W: [[ 0.14826486  0.12459554 -0.2728604 ]\n",
      " [-0.19759546  0.25525758 -0.05766212]] b: [[-0.16746048  0.00306965  0.16439082]] , has loss: 1.0169186670225117 & accuracy: 0.5277777777777778\n",
      "accross folds mean accuracy:\n"
     ]
    },
    {
     "data": {
      "text/plain": [
       "[0.5702546296296295]"
      ]
     },
     "execution_count": 84,
     "metadata": {
      "tags": []
     },
     "output_type": "execute_result"
    }
   ],
   "source": [
    "#USING 4-FOLD CROSS VALIDATION W/ LR=0.5 & 300 STEPS\n",
    "from sklearn.model_selection import KFold\n",
    "kfold = KFold(4, True, 0)\n",
    "step_sizes = [.5]\n",
    "steps = 300\n",
    "losses = []\n",
    "accuracies = []\n",
    "Ws = []\n",
    "bs = []\n",
    "for step_size in step_sizes:\n",
    "    loss_cv = []\n",
    "    acc_cv =[]\n",
    "    W_cv = []\n",
    "    b_cv = []\n",
    "    for (X_train_i, X_val_i), (y_train_i, y_val_i)  in zip(kfold.split(X_train),kfold.split(y_train)):\n",
    "        Xtrain = X_train[X_train_i]\n",
    "        Xval = X_train[X_val_i]\n",
    "        ytrain = y_train[y_train_i]\n",
    "        yval = y_train[y_val_i]\n",
    "        # gradient descent loop\n",
    "        for i in range(steps):\n",
    "              num_examples = Xtrain.shape[0]\n",
    "              #evaluate class scores\n",
    "              scores = np.dot(Xtrain, W) + b \n",
    "              # compute the class probabilities\n",
    "              exp_scores = np.exp(scores)\n",
    "              probs = exp_scores / np.sum(exp_scores, axis=1, keepdims=True)\n",
    "              # compute the loss: average cross-entropy loss \n",
    "              corect_logprobs = -np.log(probs[range(num_examples),ytrain])\n",
    "              data_loss = np.sum(corect_logprobs)/num_examples\n",
    "              # L2 regularization term\n",
    "              L2_reg = L2 * np.sum(np.square(W))  #λ sigma w^2\n",
    "              reg_loss = L2_reg\n",
    "              loss = data_loss + reg_loss\n",
    "              # compute the gradient on scores\n",
    "              dscores = probs\n",
    "              dscores[range(num_examples),ytrain] -= 1\n",
    "              dscores /= num_examples\n",
    "              # backpropate the gradient to the parameters (W,b)\n",
    "              dW = np.dot(Xtrain.T, dscores)\n",
    "              db = np.sum(dscores, axis=0, keepdims=True)\n",
    "              # regularization gradient\n",
    "              dW += reg*W \n",
    "              # perform a parameter update\n",
    "              W += -step_size * dW\n",
    "              b += -step_size * db\n",
    "              # CV Accuracy\n",
    "              scores = np.dot(Xtrain, W) + b\n",
    "              predicted_class = np.argmax(scores, axis=1)\n",
    "              acc = np.mean(predicted_class == ytrain)\n",
    "\n",
    "              W_cv.append(W)\n",
    "              b_cv.append(b)\n",
    "              loss_cv.append(loss)\n",
    "              acc_cv.append(acc)\n",
    "        print('Step size:', step_size, 'where W:', W ,'b:',b,', has loss:',loss,'& accuracy:',acc)\n",
    "    Ws.append(W_cv)\n",
    "    bs.append(b_cv)\n",
    "    losses.append(loss_cv)\n",
    "    accuracies.append(acc_cv)\n",
    "\n",
    "#Mean accuracy across folds\n",
    "mean_acc_kcv = [np.mean(acc) for acc in accuracies]\n",
    "print(\"accross folds mean accuracy:\")\n",
    "mean_acc_kcv"
   ]
  },
  {
   "cell_type": "markdown",
   "metadata": {
    "id": "_2N3ZD3fQCuP"
   },
   "source": [
    "-  What is the sensitivity of the model's performance to different learning rates and the number of gradient descent iterations. Describe via suitable plots.\n",
    " "
   ]
  },
  {
   "cell_type": "code",
   "execution_count": 50,
   "metadata": {
    "colab": {
     "base_uri": "https://localhost:8080/"
    },
    "id": "04BqfEpPQQ8i",
    "outputId": "ed0da918-2db4-4cee-e288-76c7bf799566"
   },
   "outputs": [
    {
     "name": "stdout",
     "output_type": "stream",
     "text": [
      "Step size: 0.2 where W: [[ 0.24586982  0.39102135 -0.63689116]\n",
      " [-0.60742349  0.64142765 -0.03400415]] b: [[ 0.04264563  0.1234265  -0.16607213]] , has loss: 0.9148238512576474 & accuracy: 0.65\n",
      "Step size: 0.2 where W: [[ 0.26871852  0.28387198 -0.55259051]\n",
      " [-0.50583658  0.6441935  -0.13835692]] b: [[-0.01484869  0.071499   -0.05665031]] , has loss: 0.9554451302544678 & accuracy: 0.5222222222222223\n",
      "Step size: 0.2 where W: [[ 0.33024606  0.29362242 -0.62386848]\n",
      " [-0.60198817  0.63937131 -0.03738314]] b: [[ 0.05777161  0.04392899 -0.1017006 ]] , has loss: 0.9260755538052023 & accuracy: 0.55\n",
      "Step size: 0.2 where W: [[ 0.34950365  0.26718001 -0.61668366]\n",
      " [-0.48993513  0.61167683 -0.1217417 ]] b: [[-0.16187951  0.01328859  0.14859092]] , has loss: 0.9394934803163821 & accuracy: 0.5944444444444444\n",
      "accross folds mean accuracy:\n"
     ]
    },
    {
     "data": {
      "text/plain": [
       "[0.5796203703703704]"
      ]
     },
     "execution_count": 50,
     "metadata": {
      "tags": []
     },
     "output_type": "execute_result"
    }
   ],
   "source": [
    "####USING 4-FOLD CROSS VALIDATION W/ ***LR=0.2*** & 300 STEPS\n",
    "kfold = KFold(4, True, 0)\n",
    "step_sizes = [.2]\n",
    "steps = 300\n",
    "losses = []\n",
    "accuracies = []\n",
    "Ws = []\n",
    "bs = []\n",
    "for step_size in step_sizes:\n",
    "    loss_cv = []\n",
    "    acc_cv =[]\n",
    "    W_cv = []\n",
    "    b_cv = []\n",
    "    for (X_train_i, X_val_i), (y_train_i, y_val_i)  in zip(kfold.split(X_train),kfold.split(y_train)):\n",
    "        Xtrain = X_train[X_train_i]\n",
    "        Xval = X_train[X_val_i]\n",
    "        ytrain = y_train[y_train_i]\n",
    "        yval = y_train[y_val_i]\n",
    "        # gradient descent loop\n",
    "        for i in range(steps):\n",
    "              num_examples = Xtrain.shape[0]\n",
    "              #evaluate class scores\n",
    "              scores = np.dot(Xtrain, W) + b \n",
    "              # compute the class probabilities\n",
    "              exp_scores = np.exp(scores)\n",
    "              probs = exp_scores / np.sum(exp_scores, axis=1, keepdims=True)\n",
    "              # compute the loss: average cross-entropy loss \n",
    "              corect_logprobs = -np.log(probs[range(num_examples),ytrain])\n",
    "              data_loss = np.sum(corect_logprobs)/num_examples\n",
    "              # L2 regularization term\n",
    "              L2_reg = L2 * np.sum(np.square(W))  #λ sigma w^2\n",
    "              reg_loss = L2_reg\n",
    "              loss = data_loss + reg_loss\n",
    "              # compute the gradient on scores\n",
    "              dscores = probs\n",
    "              dscores[range(num_examples),ytrain] -= 1\n",
    "              dscores /= num_examples\n",
    "              # backpropate the gradient to the parameters (W,b)\n",
    "              dW = np.dot(Xtrain.T, dscores)\n",
    "              db = np.sum(dscores, axis=0, keepdims=True)\n",
    "              # regularization gradient\n",
    "              dW += reg*W \n",
    "              # perform a parameter update\n",
    "              W += -step_size * dW\n",
    "              b += -step_size * db\n",
    "              # CV Accuracy\n",
    "              scores = np.dot(Xtrain, W) + b\n",
    "              predicted_class = np.argmax(scores, axis=1)\n",
    "              acc = np.mean(predicted_class == ytrain)\n",
    "\n",
    "              W_cv.append(W)\n",
    "              b_cv.append(b)\n",
    "              loss_cv.append(loss)\n",
    "              acc_cv.append(acc)\n",
    "        print('Step size:', step_size, 'where W:', W ,'b:',b,', has loss:',loss,'& accuracy:',acc)\n",
    "    Ws.append(W_cv)\n",
    "    bs.append(b_cv)\n",
    "    losses.append(loss_cv)\n",
    "    accuracies.append(acc_cv)\n",
    "\n",
    "#Mean accuracy across folds\n",
    "mean_acc_kcv_02LR = [np.mean(acc) for acc in accuracies]\n",
    "print(\"accross folds mean accuracy:\")\n",
    "mean_acc_kcv_02LR"
   ]
  },
  {
   "cell_type": "code",
   "execution_count": 51,
   "metadata": {
    "colab": {
     "base_uri": "https://localhost:8080/"
    },
    "id": "fqtCxZYL0mPr",
    "outputId": "0c097e7f-33c0-4643-c834-4fe42bf4dfd6"
   },
   "outputs": [
    {
     "name": "stdout",
     "output_type": "stream",
     "text": [
      "Step size: 0.7 where W: [[ 0.24587211  0.39102806 -0.63690016]\n",
      " [-0.6074297   0.64142442 -0.03399472]] b: [[ 0.04264565  0.12342717 -0.16607282]] , has loss: 0.9148228107405382 & accuracy: 0.65\n",
      "Step size: 0.7 where W: [[ 0.26871171  0.28386212 -0.55257383]\n",
      " [-0.50582306  0.64419865 -0.13837559]] b: [[-0.01484849  0.07149713 -0.05664863]] , has loss: 0.9554466211433961 & accuracy: 0.5222222222222223\n",
      "Step size: 0.7 where W: [[ 0.33025564  0.29362317 -0.62387881]\n",
      " [-0.60199937  0.63937058 -0.03737121]] b: [[ 0.05777016  0.04393041 -0.10170058]] , has loss: 0.9260739733425565 & accuracy: 0.55\n",
      "Step size: 0.7 where W: [[ 0.34950032  0.26717881 -0.61667913]\n",
      " [-0.48991716  0.61166914 -0.12175198]] b: [[-0.16187786  0.01328785  0.14859002]] , has loss: 0.9394951470604276 & accuracy: 0.5944444444444444\n",
      "accross folds mean accuracy:\n"
     ]
    },
    {
     "data": {
      "text/plain": [
       "[0.5793657407407407]"
      ]
     },
     "execution_count": 51,
     "metadata": {
      "tags": []
     },
     "output_type": "execute_result"
    }
   ],
   "source": [
    "####USING 4-FOLD CROSS VALIDATION W/ ***LR=0.7*** & 300 STEPS\n",
    "kfold = KFold(4, True, 0)\n",
    "step_sizes = [.7]\n",
    "steps = 300\n",
    "losses = []\n",
    "accuracies = []\n",
    "Ws = []\n",
    "bs = []\n",
    "for step_size in step_sizes:\n",
    "    loss_cv = []\n",
    "    acc_cv =[]\n",
    "    W_cv = []\n",
    "    b_cv = []\n",
    "    for (X_train_i, X_val_i), (y_train_i, y_val_i)  in zip(kfold.split(X_train),kfold.split(y_train)):\n",
    "        Xtrain = X_train[X_train_i]\n",
    "        Xval = X_train[X_val_i]\n",
    "        ytrain = y_train[y_train_i]\n",
    "        yval = y_train[y_val_i]\n",
    "        # gradient descent loop\n",
    "        for i in range(steps):\n",
    "              num_examples = Xtrain.shape[0]\n",
    "              #evaluate class scores\n",
    "              scores = np.dot(Xtrain, W) + b \n",
    "              # compute the class probabilities\n",
    "              exp_scores = np.exp(scores)\n",
    "              probs = exp_scores / np.sum(exp_scores, axis=1, keepdims=True)\n",
    "              # compute the loss: average cross-entropy loss \n",
    "              corect_logprobs = -np.log(probs[range(num_examples),ytrain])\n",
    "              data_loss = np.sum(corect_logprobs)/num_examples\n",
    "              # L2 regularization term\n",
    "              L2_reg = L2 * np.sum(np.square(W))  #λ sigma w^2\n",
    "              reg_loss = L2_reg\n",
    "              loss = data_loss + reg_loss\n",
    "              # compute the gradient on scores\n",
    "              dscores = probs\n",
    "              dscores[range(num_examples),ytrain] -= 1\n",
    "              dscores /= num_examples\n",
    "              # backpropate the gradient to the parameters (W,b)\n",
    "              dW = np.dot(Xtrain.T, dscores)\n",
    "              db = np.sum(dscores, axis=0, keepdims=True)\n",
    "              # regularization gradient\n",
    "              dW += reg*W \n",
    "              # perform a parameter update\n",
    "              W += -step_size * dW\n",
    "              b += -step_size * db\n",
    "              # CV Accuracy\n",
    "              scores = np.dot(Xtrain, W) + b\n",
    "              predicted_class = np.argmax(scores, axis=1)\n",
    "              acc = np.mean(predicted_class == ytrain)\n",
    "\n",
    "              W_cv.append(W)\n",
    "              b_cv.append(b)\n",
    "              loss_cv.append(loss)\n",
    "              acc_cv.append(acc)\n",
    "        print('Step size:', step_size, 'where W:', W ,'b:',b,', has loss:',loss,'& accuracy:',acc)\n",
    "    Ws.append(W_cv)\n",
    "    bs.append(b_cv)\n",
    "    losses.append(loss_cv)\n",
    "    accuracies.append(acc_cv)\n",
    "\n",
    "#Mean accuracy across folds\n",
    "mean_acc_kcv_07LR = [np.mean(acc) for acc in accuracies]\n",
    "print(\"accross folds mean accuracy:\")\n",
    "mean_acc_kcv_07LR"
   ]
  },
  {
   "cell_type": "code",
   "execution_count": 78,
   "metadata": {
    "colab": {
     "base_uri": "https://localhost:8080/",
     "height": 312
    },
    "id": "y8qArGFczLCJ",
    "outputId": "08a58ab3-a296-4c88-8d99-1c2143405fc6"
   },
   "outputs": [
    {
     "data": {
      "text/plain": [
       "<matplotlib.collections.PathCollection at 0x7f867690cb00>"
      ]
     },
     "execution_count": 78,
     "metadata": {
      "tags": []
     },
     "output_type": "execute_result"
    },
    {
     "data": {
      "image/png": "[encoded data removed]",
      "text/plain": [
       "<Figure size 432x288 with 1 Axes>"
      ]
     },
     "metadata": {
      "needs_background": "light",
      "tags": []
     },
     "output_type": "display_data"
    }
   ],
   "source": [
    "# Plotting model's performance to different learning rates\n",
    "plt.title('Learning Rate vs Mean Accuracy')\n",
    "plt.xlabel('Learning Rate')\n",
    "plt.ylabel('Mean Accuracy accross folds')\n",
    "x = [ \"0.02\", \"0.5\",\"0.7\" ]\n",
    "y = [mean_acc_kcv_02LR, mean_acc_kcv, mean_acc_kcv_07LR]\n",
    "plt.scatter(x,y, marker='x',color=\"red\")"
   ]
  },
  {
   "cell_type": "markdown",
   "metadata": {
    "id": "ahcqQ2-P2cw_"
   },
   "source": [
    "We can see that the in our case, the model's perfomance is decreasing as we increase the learning rate. "
   ]
  },
  {
   "cell_type": "code",
   "execution_count": 59,
   "metadata": {
    "colab": {
     "base_uri": "https://localhost:8080/"
    },
    "id": "fZTJgI_fxUDi",
    "outputId": "147ca9d6-b2f5-403f-b59c-9a7aa9d24acc"
   },
   "outputs": [
    {
     "name": "stdout",
     "output_type": "stream",
     "text": [
      "Step size: 0.5 where W: [[ 0.24587211  0.39102806 -0.63690016]\n",
      " [-0.6074297   0.64142442 -0.03399472]] b: [[ 0.04264565  0.12342717 -0.16607282]] , has loss: 0.9148228107405382 & accuracy: 0.65\n",
      "Step size: 0.5 where W: [[ 0.26871171  0.28386212 -0.55257383]\n",
      " [-0.50582306  0.64419865 -0.13837559]] b: [[-0.01484849  0.07149713 -0.05664863]] , has loss: 0.9554466211433961 & accuracy: 0.5222222222222223\n",
      "Step size: 0.5 where W: [[ 0.33025564  0.29362317 -0.62387881]\n",
      " [-0.60199937  0.63937058 -0.03737121]] b: [[ 0.05777016  0.04393041 -0.10170058]] , has loss: 0.9260739733425565 & accuracy: 0.55\n",
      "Step size: 0.5 where W: [[ 0.34950032  0.26717881 -0.61667913]\n",
      " [-0.48991716  0.61166914 -0.12175198]] b: [[-0.16187786  0.01328785  0.14859002]] , has loss: 0.939495147060428 & accuracy: 0.5944444444444444\n"
     ]
    },
    {
     "data": {
      "text/plain": [
       "[0.5792777777777778]"
      ]
     },
     "execution_count": 59,
     "metadata": {
      "tags": []
     },
     "output_type": "execute_result"
    }
   ],
   "source": [
    "####USING 4-FOLD CROSS VALIDATION W/ LR=0.5 & 600 STEPS\n",
    "kfold = KFold(4, True, 0)\n",
    "step_sizes = [.5]\n",
    "steps = 600\n",
    "losses = []\n",
    "accuracies = []\n",
    "Ws = []\n",
    "bs = []\n",
    "for step_size in step_sizes:\n",
    "    loss_cv = []\n",
    "    acc_cv =[]\n",
    "    W_cv = []\n",
    "    b_cv = []\n",
    "    for (X_train_i, X_val_i), (y_train_i, y_val_i)  in zip(kfold.split(X_train),kfold.split(y_train)):\n",
    "        Xtrain = X_train[X_train_i]\n",
    "        Xval = X_train[X_val_i]\n",
    "        ytrain = y_train[y_train_i]\n",
    "        yval = y_train[y_val_i]\n",
    "        # gradient descent loop\n",
    "        for i in range(steps):\n",
    "              num_examples = Xtrain.shape[0]\n",
    "              #evaluate class scores\n",
    "              scores = np.dot(Xtrain, W) + b \n",
    "              # compute the class probabilities\n",
    "              exp_scores = np.exp(scores)\n",
    "              probs = exp_scores / np.sum(exp_scores, axis=1, keepdims=True)\n",
    "              # compute the loss: average cross-entropy loss \n",
    "              corect_logprobs = -np.log(probs[range(num_examples),ytrain])\n",
    "              data_loss = np.sum(corect_logprobs)/num_examples\n",
    "              # L2 regularization term\n",
    "              L2_reg = L2 * np.sum(np.square(W))  #λ sigma w^2\n",
    "              reg_loss = L2_reg\n",
    "              loss = data_loss + reg_loss\n",
    "              # compute the gradient on scores\n",
    "              dscores = probs\n",
    "              dscores[range(num_examples),ytrain] -= 1\n",
    "              dscores /= num_examples\n",
    "              # backpropate the gradient to the parameters (W,b)\n",
    "              dW = np.dot(Xtrain.T, dscores)\n",
    "              db = np.sum(dscores, axis=0, keepdims=True)\n",
    "              # regularization gradient\n",
    "              dW += reg*W \n",
    "              # perform a parameter update\n",
    "              W += -step_size * dW\n",
    "              b += -step_size * db\n",
    "              # CV Accuracy\n",
    "              scores = np.dot(Xtrain, W) + b\n",
    "              predicted_class = np.argmax(scores, axis=1)\n",
    "              acc = np.mean(predicted_class == ytrain)\n",
    "\n",
    "              W_cv.append(W)\n",
    "              b_cv.append(b)\n",
    "              loss_cv.append(loss)\n",
    "              acc_cv.append(acc)\n",
    "        print('Step size:', step_size, 'where W:', W ,'b:',b,', has loss:',loss,'& accuracy:',acc)\n",
    "    Ws.append(W_cv)\n",
    "    bs.append(b_cv)\n",
    "    losses.append(loss_cv)\n",
    "    accuracies.append(acc_cv)\n",
    "\n",
    "#Mean accuracy across folds\n",
    "mean_acc_kcv_600steps = [np.mean(acc) for acc in accuracies]\n",
    "mean_acc_kcv_600steps"
   ]
  },
  {
   "cell_type": "code",
   "execution_count": 62,
   "metadata": {
    "colab": {
     "base_uri": "https://localhost:8080/"
    },
    "id": "fw35kLc21UtF",
    "outputId": "734d0e7c-239d-405b-b4fb-bd021d7c4c00"
   },
   "outputs": [
    {
     "data": {
      "text/plain": [
       "0.1"
      ]
     },
     "execution_count": 62,
     "metadata": {
      "tags": []
     },
     "output_type": "execute_result"
    }
   ],
   "source": [
    "####USING 4-FOLD CROSS VALIDATION W/ LR=0.5 & 50 STEPS\n",
    "kfold = KFold(4, True, 0)\n",
    "reg = 0.1\n",
    "step_sizes = [.5]\n",
    "steps = 50\n",
    "losses = []\n",
    "accuracies = []\n",
    "Ws = []\n",
    "bs = []\n",
    "for step_size in step_sizes:\n",
    "    loss_cv = []\n",
    "    acc_cv =[]\n",
    "    W_cv = []\n",
    "    b_cv = []\n",
    "    for (X_train_i, X_val_i), (y_train_i, y_val_i)  in zip(kfold.split(X_train),kfold.split(y_train)):\n",
    "        Xtrain = X_train[X_train_i]\n",
    "        Xval = X_train[X_val_i]\n",
    "        ytrain = y_train[y_train_i]\n",
    "        yval = y_train[y_val_i]\n",
    "        # gradient descent loop\n",
    "        for i in range(steps):\n",
    "              num_examples = Xtrain.shape[0]\n",
    "              #evaluate class scores\n",
    "              scores = np.dot(Xtrain, W) + b \n",
    "              # compute the class probabilities\n",
    "              exp_scores = np.exp(scores)\n",
    "              probs = exp_scores / np.sum(exp_scores, axis=1, keepdims=True)\n",
    "              # compute the loss: average cross-entropy loss \n",
    "              corect_logprobs = -np.log(probs[range(num_examples),ytrain])\n",
    "              data_loss = np.sum(corect_logprobs)/num_examples\n",
    "              # L2 regularization term\n",
    "              L2_reg = L2 * np.sum(np.square(W))  #λ sigma w^2\n",
    "              reg_loss = L2_reg\n",
    "              loss = data_loss + reg_loss\n",
    "              # compute the gradient on scores\n",
    "              dscores = probs\n",
    "              dscores[range(num_examples),ytrain] -= 1\n",
    "              dscores /= num_examples\n",
    "              # backpropate the gradient to the parameters (W,b)\n",
    "              dW = np.dot(Xtrain.T, dscores)\n",
    "              db = np.sum(dscores, axis=0, keepdims=True)\n",
    "              # regularization gradient\n",
    "              dW += reg*W \n",
    "              # perform a parameter update\n",
    "              W += -step_size * dW\n",
    "              b += -step_size * db\n",
    "              # CV Accuracy\n",
    "              scores = np.dot(Xtrain, W) + b\n",
    "              predicted_class = np.argmax(scores, axis=1)\n",
    "              acc = np.mean(predicted_class == ytrain)\n",
    "\n",
    "              W_cv.append(W)\n",
    "              b_cv.append(b)\n",
    "              loss_cv.append(loss)\n",
    "              acc_cv.append(acc)\n",
    "        print('Step size:', step_size, 'where W:', W ,'b:',b,', has loss:',loss,'& accuracy:',acc)\n",
    "    Ws.append(W_cv)\n",
    "    bs.append(b_cv)\n",
    "    losses.append(loss_cv)\n",
    "    accuracies.append(acc_cv)\n",
    "\n",
    "#Mean accuracy across folds\n",
    "mean_acc_kcv_50steps = [np.mean(acc) for acc in accuracies]\n",
    "mean_acc_kcv_50steps"
   ]
  },
  {
   "cell_type": "code",
   "execution_count": 76,
   "metadata": {
    "colab": {
     "base_uri": "https://localhost:8080/",
     "height": 312
    },
    "id": "bCleWsYj1e7t",
    "outputId": "2cccf510-d206-4282-f99b-4bc8161c56f4"
   },
   "outputs": [
    {
     "data": {
      "text/plain": [
       "<matplotlib.collections.PathCollection at 0x7f86769415c0>"
      ]
     },
     "execution_count": 76,
     "metadata": {
      "tags": []
     },
     "output_type": "execute_result"
    },
    {
     "data": {
      "image/png": "[encoded data removed]",
      "text/plain": [
       "<Figure size 432x288 with 1 Axes>"
      ]
     },
     "metadata": {
      "needs_background": "light",
      "tags": []
     },
     "output_type": "display_data"
    }
   ],
   "source": [
    "# Plotting model's performance to different gradient descent iterations\n",
    "plt.title('GD Iterations vs Mean Accuracy')\n",
    "plt.xlabel('GD Iterations')\n",
    "plt.ylabel('Mean Accuracy accross folds')\n",
    "x = [ \"50\", \"300\",\"600\" ]\n",
    "y = [mean_acc_kcv_50steps, mean_acc_kcv, mean_acc_kcv_600steps]\n",
    "plt.scatter(x,y, marker='s',color=\"purple\")"
   ]
  },
  {
   "cell_type": "markdown",
   "metadata": {
    "id": "kJXyTiLI2oPW"
   },
   "source": [
    "The number or gradient descent iterations decreseas the mean accuracy accross folds."
   ]
  },
  {
   "cell_type": "markdown",
   "metadata": {
    "id": "PUNO4c8zQEX_"
   },
   "source": [
    "-  What is the sensitivity of the model's performance to different regularization parameter values. Find the best regularization parameter using an exhaustive search procedure. Describe your choice via suitable plots. What is the performance difference between using regularization and no regularization?\n",
    " "
   ]
  },
  {
   "cell_type": "code",
   "execution_count": 65,
   "metadata": {
    "colab": {
     "base_uri": "https://localhost:8080/"
    },
    "id": "Nvhgee8n8-SL",
    "outputId": "cbb17031-7ab1-4377-f0e7-775c51b014d6"
   },
   "outputs": [
    {
     "name": "stdout",
     "output_type": "stream",
     "text": [
      "Step size: 0.5 where W: [[ 0.0960158   0.18215602 -0.27817182]\n",
      " [-0.25997571  0.28101329 -0.02103758]] b: [[ 0.03862572  0.12068627 -0.15931198]] , has loss: 1.0045572733791295 & accuracy: 0.5944444444444444\n",
      "Step size: 0.5 where W: [[ 0.10926696  0.13013313 -0.23940009]\n",
      " [-0.20995925  0.27406843 -0.06410917]] b: [[-0.02683056  0.07024566 -0.0434151 ]] , has loss: 1.0293679206657427 & accuracy: 0.5777777777777777\n",
      "Step size: 0.5 where W: [[ 0.13821022  0.12977394 -0.26798417]\n",
      " [-0.26002259  0.27828069 -0.0182581 ]] b: [[ 0.06268461  0.03985582 -0.10254043]] , has loss: 1.0132705252266276 & accuracy: 0.5777777777777777\n",
      "Step size: 0.5 where W: [[ 0.14826486  0.12459554 -0.2728604 ]\n",
      " [-0.19759546  0.25525758 -0.05766212]] b: [[-0.16746048  0.00306965  0.16439082]] , has loss: 1.0169186670225117 & accuracy: 0.5277777777777778\n"
     ]
    },
    {
     "data": {
      "text/plain": [
       "[0.5699907407407406]"
      ]
     },
     "execution_count": 65,
     "metadata": {
      "tags": []
     },
     "output_type": "execute_result"
    }
   ],
   "source": [
    "####USING 4-FOLD CROSS VALIDATION W/ LR=0.5 & 300 STEPS Reg= 0.1 --- mean_acc_kcv\n",
    "####USING 4-FOLD CROSS VALIDATION W/ LR=0.5 & 300 STEPS Reg= 0.3 --- \n",
    "kfold = KFold(4, True, 0)\n",
    "reg = 0.3\n",
    "step_sizes = [.5]\n",
    "steps = 300\n",
    "losses = []\n",
    "accuracies = []\n",
    "Ws = []\n",
    "bs = []\n",
    "for step_size in step_sizes:\n",
    "    loss_cv = []\n",
    "    acc_cv =[]\n",
    "    W_cv = []\n",
    "    b_cv = []\n",
    "    for (X_train_i, X_val_i), (y_train_i, y_val_i)  in zip(kfold.split(X_train),kfold.split(y_train)):\n",
    "        Xtrain = X_train[X_train_i]\n",
    "        Xval = X_train[X_val_i]\n",
    "        ytrain = y_train[y_train_i]\n",
    "        yval = y_train[y_val_i]\n",
    "        # gradient descent loop\n",
    "        for i in range(steps):\n",
    "              num_examples = Xtrain.shape[0]\n",
    "              #evaluate class scores\n",
    "              scores = np.dot(Xtrain, W) + b \n",
    "              # compute the class probabilities\n",
    "              exp_scores = np.exp(scores)\n",
    "              probs = exp_scores / np.sum(exp_scores, axis=1, keepdims=True)\n",
    "              # compute the loss: average cross-entropy loss \n",
    "              corect_logprobs = -np.log(probs[range(num_examples),ytrain])\n",
    "              data_loss = np.sum(corect_logprobs)/num_examples\n",
    "              # L2 regularization term\n",
    "              L2_reg = L2 * np.sum(np.square(W))  #λ sigma w^2\n",
    "              reg_loss = L2_reg\n",
    "              loss = data_loss + reg_loss\n",
    "              # compute the gradient on scores\n",
    "              dscores = probs\n",
    "              dscores[range(num_examples),ytrain] -= 1\n",
    "              dscores /= num_examples\n",
    "              # backpropate the gradient to the parameters (W,b)\n",
    "              dW = np.dot(Xtrain.T, dscores)\n",
    "              db = np.sum(dscores, axis=0, keepdims=True)\n",
    "              # regularization gradient\n",
    "              dW += reg*W \n",
    "              # perform a parameter update\n",
    "              W += -step_size * dW\n",
    "              b += -step_size * db\n",
    "              # CV Accuracy\n",
    "              scores = np.dot(Xtrain, W) + b\n",
    "              predicted_class = np.argmax(scores, axis=1)\n",
    "              acc = np.mean(predicted_class == ytrain)\n",
    "\n",
    "              W_cv.append(W)\n",
    "              b_cv.append(b)\n",
    "              loss_cv.append(loss)\n",
    "              acc_cv.append(acc)\n",
    "        print('Step size:', step_size, 'where W:', W ,'b:',b,', has loss:',loss,'& accuracy:',acc)\n",
    "    Ws.append(W_cv)\n",
    "    bs.append(b_cv)\n",
    "    losses.append(loss_cv)\n",
    "    accuracies.append(acc_cv)\n",
    "\n",
    "#Mean accuracy across folds\n",
    "mean_acc_kcv_reg03 = [np.mean(acc) for acc in accuracies]\n",
    "mean_acc_kcv_reg03"
   ]
  },
  {
   "cell_type": "code",
   "execution_count": 63,
   "metadata": {
    "colab": {
     "base_uri": "https://localhost:8080/"
    },
    "id": "oMrKLS-8QRex",
    "outputId": "e444fcdd-5fdd-477e-a757-435f39651a75"
   },
   "outputs": [
    {
     "name": "stdout",
     "output_type": "stream",
     "text": [
      "Step size: 0.5 where W: [[ 0.05948241  0.11915614 -0.17863854]\n",
      " [-0.16590147  0.1807465  -0.01484503]] b: [[ 0.03834483  0.11959222 -0.15793705]] , has loss: 1.034032837255195 & accuracy: 0.5222222222222223\n",
      "Step size: 0.5 where W: [[ 0.06860498  0.08461069 -0.15321567]\n",
      " [-0.13276115  0.17463798 -0.04187683]] b: [[-0.02939344  0.06898214 -0.0395887 ]] , has loss: 1.0527218890144916 & accuracy: 0.5555555555555556\n",
      "Step size: 0.5 where W: [[ 0.08760725  0.08348055 -0.1710878 ]\n",
      " [-0.16636517  0.1784608  -0.01209563]] b: [[ 0.06419636  0.03846356 -0.10265992]] , has loss: 1.0413863516609136 & accuracy: 0.5444444444444444\n",
      "Step size: 0.5 where W: [[ 0.09441918  0.08135329 -0.17577248]\n",
      " [-0.12392279  0.16169282 -0.03777002]] b: [[-0.16921728 -0.00017274  0.16939002]] , has loss: 1.0413733729389882 & accuracy: 0.49444444444444446\n"
     ]
    },
    {
     "data": {
      "text/plain": [
       "[0.5301064814814814]"
      ]
     },
     "execution_count": 63,
     "metadata": {
      "tags": []
     },
     "output_type": "execute_result"
    }
   ],
   "source": [
    "####USING 4-FOLD CROSS VALIDATION W/ LR=0.5 & 300 STEPS Reg= 0.5 --- \n",
    "kfold = KFold(4, True, 0)\n",
    "reg = 0.5\n",
    "step_sizes = [.5]\n",
    "steps = 300\n",
    "losses = []\n",
    "accuracies = []\n",
    "Ws = []\n",
    "bs = []\n",
    "for step_size in step_sizes:\n",
    "    loss_cv = []\n",
    "    acc_cv =[]\n",
    "    W_cv = []\n",
    "    b_cv = []\n",
    "    for (X_train_i, X_val_i), (y_train_i, y_val_i)  in zip(kfold.split(X_train),kfold.split(y_train)):\n",
    "        Xtrain = X_train[X_train_i]\n",
    "        Xval = X_train[X_val_i]\n",
    "        ytrain = y_train[y_train_i]\n",
    "        yval = y_train[y_val_i]\n",
    "        # gradient descent loop\n",
    "        for i in range(steps):\n",
    "              num_examples = Xtrain.shape[0]\n",
    "              #evaluate class scores\n",
    "              scores = np.dot(Xtrain, W) + b \n",
    "              # compute the class probabilities\n",
    "              exp_scores = np.exp(scores)\n",
    "              probs = exp_scores / np.sum(exp_scores, axis=1, keepdims=True)\n",
    "              # compute the loss: average cross-entropy loss \n",
    "              corect_logprobs = -np.log(probs[range(num_examples),ytrain])\n",
    "              data_loss = np.sum(corect_logprobs)/num_examples\n",
    "              # L2 regularization term\n",
    "              L2_reg = L2 * np.sum(np.square(W))  #λ sigma w^2\n",
    "              reg_loss = L2_reg\n",
    "              loss = data_loss + reg_loss\n",
    "              # compute the gradient on scores\n",
    "              dscores = probs\n",
    "              dscores[range(num_examples),ytrain] -= 1\n",
    "              dscores /= num_examples\n",
    "              # backpropate the gradient to the parameters (W,b)\n",
    "              dW = np.dot(Xtrain.T, dscores)\n",
    "              db = np.sum(dscores, axis=0, keepdims=True)\n",
    "              # regularization gradient\n",
    "              dW += reg*W \n",
    "              # perform a parameter update\n",
    "              W += -step_size * dW\n",
    "              b += -step_size * db\n",
    "              # CV Accuracy\n",
    "              scores = np.dot(Xtrain, W) + b\n",
    "              predicted_class = np.argmax(scores, axis=1)\n",
    "              acc = np.mean(predicted_class == ytrain)\n",
    "\n",
    "              W_cv.append(W)\n",
    "              b_cv.append(b)\n",
    "              loss_cv.append(loss)\n",
    "              acc_cv.append(acc)\n",
    "        print('Step size:', step_size, 'where W:', W ,'b:',b,', has loss:',loss,'& accuracy:',acc)\n",
    "    Ws.append(W_cv)\n",
    "    bs.append(b_cv)\n",
    "    losses.append(loss_cv)\n",
    "    accuracies.append(acc_cv)\n",
    "\n",
    "#Mean accuracy across folds\n",
    "mean_acc_kcv_reg05 = [np.mean(acc) for acc in accuracies]\n",
    "mean_acc_kcv_reg05"
   ]
  },
  {
   "cell_type": "code",
   "execution_count": 64,
   "metadata": {
    "colab": {
     "base_uri": "https://localhost:8080/"
    },
    "id": "KzZdPCIQ8yxy",
    "outputId": "2265abe8-3835-4cf7-f1c9-1396696e4e54"
   },
   "outputs": [
    {
     "name": "stdout",
     "output_type": "stream",
     "text": [
      "Step size: 0.5 where W: [[ 0.04306369  0.08856107 -0.13162476]\n",
      " [-0.12186293  0.13328402 -0.01142109]] b: [[ 0.03839275  0.11897562 -0.15736836]] , has loss: 1.0486890926808141 & accuracy: 0.5055555555555555\n",
      "Step size: 0.5 where W: [[ 0.0500005   0.0626918  -0.1126923 ]\n",
      " [-0.09709295  0.1281931  -0.03110015]] b: [[-0.03044903  0.068236   -0.03778697]] , has loss: 1.0641599572877933 & accuracy: 0.5333333333333333\n",
      "Step size: 0.5 where W: [[ 0.06414699  0.06154329 -0.12569028]\n",
      " [-0.12235265  0.13139472 -0.00904207]] b: [[ 0.06494915  0.03774268 -0.10269183]] , has loss: 1.0552468492131204 & accuracy: 0.5333333333333333\n",
      "Step size: 0.5 where W: [[ 0.06929574  0.06039372 -0.12968945]\n",
      " [-0.09027809  0.11835483 -0.02807674]] b: [[-0.17001768 -0.00177861  0.17179629]] , has loss: 1.0533598577850845 & accuracy: 0.45555555555555555\n"
     ]
    },
    {
     "data": {
      "text/plain": [
       "[0.5072222222222222]"
      ]
     },
     "execution_count": 64,
     "metadata": {
      "tags": []
     },
     "output_type": "execute_result"
    }
   ],
   "source": [
    "####USING 4-FOLD CROSS VALIDATION W/ LR=0.5 & 300 STEPS Reg= 0.5 --- \n",
    "kfold = KFold(4, True, 0)\n",
    "reg = 0.7\n",
    "step_sizes = [0.5]\n",
    "steps = 300\n",
    "losses = []\n",
    "accuracies = []\n",
    "Ws = []\n",
    "bs = []\n",
    "for step_size in step_sizes:\n",
    "    loss_cv = []\n",
    "    acc_cv =[]\n",
    "    W_cv = []\n",
    "    b_cv = []\n",
    "    for (X_train_i, X_val_i), (y_train_i, y_val_i)  in zip(kfold.split(X_train),kfold.split(y_train)):\n",
    "        Xtrain = X_train[X_train_i]\n",
    "        Xval = X_train[X_val_i]\n",
    "        ytrain = y_train[y_train_i]\n",
    "        yval = y_train[y_val_i]\n",
    "        # gradient descent loop\n",
    "        for i in range(steps):\n",
    "              num_examples = Xtrain.shape[0]\n",
    "              #evaluate class scores\n",
    "              scores = np.dot(Xtrain, W) + b \n",
    "              # compute the class probabilities\n",
    "              exp_scores = np.exp(scores)\n",
    "              probs = exp_scores / np.sum(exp_scores, axis=1, keepdims=True)\n",
    "              # compute the loss: average cross-entropy loss \n",
    "              corect_logprobs = -np.log(probs[range(num_examples),ytrain])\n",
    "              data_loss = np.sum(corect_logprobs)/num_examples\n",
    "              # L2 regularization term\n",
    "              L2_reg = L2 * np.sum(np.square(W))  #λ sigma w^2\n",
    "              reg_loss = L2_reg\n",
    "              loss = data_loss + reg_loss\n",
    "              # compute the gradient on scores\n",
    "              dscores = probs\n",
    "              dscores[range(num_examples),ytrain] -= 1\n",
    "              dscores /= num_examples\n",
    "              # backpropate the gradient to the parameters (W,b)\n",
    "              dW = np.dot(Xtrain.T, dscores)\n",
    "              db = np.sum(dscores, axis=0, keepdims=True)\n",
    "              # regularization gradient\n",
    "              dW += reg*W \n",
    "              # perform a parameter update\n",
    "              W += -step_size * dW\n",
    "              b += -step_size * db\n",
    "              # CV Accuracy\n",
    "              scores = np.dot(Xtrain, W) + b\n",
    "              predicted_class = np.argmax(scores, axis=1)\n",
    "              acc = np.mean(predicted_class == ytrain)\n",
    "\n",
    "              W_cv.append(W)\n",
    "              b_cv.append(b)\n",
    "              loss_cv.append(loss)\n",
    "              acc_cv.append(acc)\n",
    "        print('Step size:', step_size, 'where W:', W ,'b:',b,', has loss:',loss,'& accuracy:',acc)\n",
    "    Ws.append(W_cv)\n",
    "    bs.append(b_cv)\n",
    "    losses.append(loss_cv)\n",
    "    accuracies.append(acc_cv)\n",
    "\n",
    "#Mean accuracy across folds\n",
    "mean_acc_kcv_reg07 = [np.mean(acc) for acc in accuracies]\n",
    "mean_acc_kcv_reg07"
   ]
  },
  {
   "cell_type": "code",
   "execution_count": 79,
   "metadata": {
    "colab": {
     "base_uri": "https://localhost:8080/",
     "height": 312
    },
    "id": "QuTBERSo9JjN",
    "outputId": "56a5c398-ab3a-41ac-db14-9cdc0fa870ed"
   },
   "outputs": [
    {
     "data": {
      "text/plain": [
       "<matplotlib.collections.PathCollection at 0x7f8676ac7320>"
      ]
     },
     "execution_count": 79,
     "metadata": {
      "tags": []
     },
     "output_type": "execute_result"
    },
    {
     "data": {
      "image/png": "[encoded data removed]",
      "text/plain": [
       "<Figure size 432x288 with 1 Axes>"
      ]
     },
     "metadata": {
      "needs_background": "light",
      "tags": []
     },
     "output_type": "display_data"
    }
   ],
   "source": [
    "# Plotting model's performance to different gradient descent iterations\n",
    "plt.title('Regularization Parameters vs Mean Accuracy')\n",
    "plt.xlabel('Regularization Parameters')\n",
    "plt.ylabel('Mean Accuracy accross folds')\n",
    "x = [ \"0.1\", \"0.3\",\"0.5\", \"0.7\"]\n",
    "y = [mean_acc_kcv, mean_acc_kcv_reg03 , mean_acc_kcv_reg05 , mean_acc_kcv_reg07]\n",
    "plt.scatter(x,y, marker='^', color=\"darkblue\")"
   ]
  },
  {
   "cell_type": "markdown",
   "metadata": {
    "id": "KYbLdclG_CK_"
   },
   "source": [
    "From the plot above, we can observe that as the value of the regularization parameter increases, the mean accuracy accross all folds decreases. Our recommended regularization parameter is 0.1"
   ]
  },
  {
   "cell_type": "markdown",
   "metadata": {
    "id": "LV2g_WTYQGXc"
   },
   "source": [
    "-  What is the sensitivity of the model's performance with respect to a different test train split (e.g., 50\\%:50\\%)."
   ]
  },
  {
   "cell_type": "code",
   "execution_count": 81,
   "metadata": {
    "colab": {
     "base_uri": "https://localhost:8080/"
    },
    "id": "qsMdh2SMQSE5",
    "outputId": "4b8d8be3-55eb-4ee2-e578-cc66a47d3c56"
   },
   "outputs": [
    {
     "name": "stdout",
     "output_type": "stream",
     "text": [
      "Step size: 0.5 where W: [[ 0.15141554  0.08404735 -0.23546289]\n",
      " [-0.1775584   0.20485286 -0.02729447]] b: [[-0.00189914 -0.25280661  0.25470576]] , has loss: 1.0228453262263248 & accuracy: 0.42857142857142855\n",
      "Step size: 0.5 where W: [[ 0.13428314  0.14594143 -0.28022457]\n",
      " [-0.23831171  0.25226221 -0.0139505 ]] b: [[-0.00405202 -0.04584511  0.04989713]] , has loss: 1.019199514459797 & accuracy: 0.5535714285714286\n",
      "Step size: 0.5 where W: [[ 0.1501907   0.110886   -0.2610767 ]\n",
      " [-0.22172898  0.27051123 -0.04878225]] b: [[ 0.06164711 -0.11825968  0.05661257]] , has loss: 1.020822450780285 & accuracy: 0.5486725663716814\n",
      "Step size: 0.5 where W: [[ 0.14406603  0.12798785 -0.27205389]\n",
      " [-0.20217512  0.21568189 -0.01350677]] b: [[-0.00867898 -0.12092422  0.1296032 ]] , has loss: 1.0279383101021171 & accuracy: 0.5752212389380531\n",
      "accross folds mean accuracy:\n"
     ]
    },
    {
     "data": {
      "text/plain": [
       "[0.5269560550990308]"
      ]
     },
     "execution_count": 81,
     "metadata": {
      "tags": []
     },
     "output_type": "execute_result"
    }
   ],
   "source": [
    "#USING 4-FOLD CROSS VALIDATION W/ LR=0.5 & 300 STEPS\n",
    "X = pickle.load(open('dataX.pickle','rb'))  #'rb' : reading binary\n",
    "y = pickle.load(open('dataY.pickle','rb')) \n",
    "\n",
    "from sklearn.model_selection import train_test_split\n",
    "X_train, X_test, y_train, y_test = train_test_split(X, y, test_size=0.50, random_state=42)\n",
    "\n",
    "from sklearn.model_selection import KFold\n",
    "kfold = KFold(4, True, 0)\n",
    "step_sizes = [.5]\n",
    "steps = 300\n",
    "losses = []\n",
    "accuracies = []\n",
    "Ws = []\n",
    "bs = []\n",
    "for step_size in step_sizes:\n",
    "    loss_cv = []\n",
    "    acc_cv =[]\n",
    "    W_cv = []\n",
    "    b_cv = []\n",
    "    for (X_train_i, X_val_i), (y_train_i, y_val_i)  in zip(kfold.split(X_train),kfold.split(y_train)):\n",
    "        Xtrain = X_train[X_train_i]\n",
    "        Xval = X_train[X_val_i]\n",
    "        ytrain = y_train[y_train_i]\n",
    "        yval = y_train[y_val_i]\n",
    "        # gradient descent loop\n",
    "        for i in range(steps):\n",
    "              num_examples = Xtrain.shape[0]\n",
    "              #evaluate class scores\n",
    "              scores = np.dot(Xtrain, W) + b \n",
    "              # compute the class probabilities\n",
    "              exp_scores = np.exp(scores)\n",
    "              probs = exp_scores / np.sum(exp_scores, axis=1, keepdims=True)\n",
    "              # compute the loss: average cross-entropy loss \n",
    "              corect_logprobs = -np.log(probs[range(num_examples),ytrain])\n",
    "              data_loss = np.sum(corect_logprobs)/num_examples\n",
    "              # L2 regularization term\n",
    "              L2_reg = L2 * np.sum(np.square(W))  #λ sigma w^2\n",
    "              reg_loss = L2_reg\n",
    "              loss = data_loss + reg_loss\n",
    "              # compute the gradient on scores\n",
    "              dscores = probs\n",
    "              dscores[range(num_examples),ytrain] -= 1\n",
    "              dscores /= num_examples\n",
    "              # backpropate the gradient to the parameters (W,b)\n",
    "              dW = np.dot(Xtrain.T, dscores)\n",
    "              db = np.sum(dscores, axis=0, keepdims=True)\n",
    "              # regularization gradient\n",
    "              dW += reg*W \n",
    "              # perform a parameter update\n",
    "              W += -step_size * dW\n",
    "              b += -step_size * db\n",
    "              # CV Accuracy\n",
    "              scores = np.dot(Xtrain, W) + b\n",
    "              predicted_class = np.argmax(scores, axis=1)\n",
    "              acc = np.mean(predicted_class == ytrain)\n",
    "\n",
    "              W_cv.append(W)\n",
    "              b_cv.append(b)\n",
    "              loss_cv.append(loss)\n",
    "              acc_cv.append(acc)\n",
    "        print('Step size:', step_size, 'where W:', W ,'b:',b,', has loss:',loss,'& accuracy:',acc)\n",
    "    Ws.append(W_cv)\n",
    "    bs.append(b_cv)\n",
    "    losses.append(loss_cv)\n",
    "    accuracies.append(acc_cv)\n",
    "\n",
    "#Mean accuracy across folds\n",
    "mean_acc_kcv = [np.mean(acc) for acc in accuracies]\n",
    "print(\"accross folds mean accuracy:\")\n",
    "mean_acc_kcv"
   ]
  },
  {
   "cell_type": "markdown",
   "metadata": {
    "id": "ZZXPs1mmCeUz"
   },
   "source": [
    "We can see that as the training set size decreases, the accuracy of our model also decreases. With the 80/20 train/test split, we got an accuracy of 0.57025 and with the 50/50 train/test split the mean accuracy was  0.5269. "
   ]
  },
  {
   "cell_type": "markdown",
   "metadata": {
    "id": "8aHN9da5lESZ"
   },
   "source": [
    "### 5. Feedforward Neural Networks (2.5pt)\n",
    "\n",
    "Consider two models: \n",
    "\n",
    "(a) a 2-layer feedforward neural network (i.e., 1 hidden layer with $f(x,W_1,b_1,W_2,b_2) = W_2\\max(0,W_1x+b_1) + b_2$), and \n",
    "\n",
    "(b) same as before but with leaky ReLU ($f(x) = x$ if  $x > 0$, else $ f(x) = 0.01*x$).\n",
    "\n",
    "\n",
    "\n",
    " -  Build the above classifiers using _Keras_ and _Tensorflow_ and solve the classification problem for [MNIST/Fashion MNIST](https://www.tensorflow.org/tutorials/keras/basic_classification). \n",
    " \n",
    "The Fashion MNIST dataset which contains 70,000 grayscale images in 10 categories. The images show individual articles of clothing at low resolution (28 by 28 pixels)"
   ]
  },
  {
   "cell_type": "code",
   "execution_count": 128,
   "metadata": {
    "colab": {
     "base_uri": "https://localhost:8080/",
     "height": 837
    },
    "id": "eobThw0zQ_62",
    "outputId": "89545c87-acbb-46f9-f531-416e5e90459e"
   },
   "outputs": [
    {
     "data": {
      "image/png": "[encoded data removed]",
      "text/plain": [
       "<Figure size 432x288 with 2 Axes>"
      ]
     },
     "metadata": {
      "needs_background": "light",
      "tags": []
     },
     "output_type": "display_data"
    },
    {
     "data": {
      "image/png": "[encoded data removed]",
      "text/plain": [
       "<Figure size 720x720 with 25 Axes>"
      ]
     },
     "metadata": {
      "tags": []
     },
     "output_type": "display_data"
    }
   ],
   "source": [
    "import tensorflow as tf\n",
    "import numpy as np\n",
    "import matplotlib.pyplot as plt\n",
    "\n",
    "# ----------- LOADING DATA -------------\n",
    "fashion_mnist = tf.keras.datasets.fashion_mnist\n",
    "(train_images, train_labels), (test_images, test_labels) = fashion_mnist.load_data()\n",
    "#class names are not included with the dataset\n",
    "class_names = ['T-shirt/top', 'Trouser', 'Pullover', 'Dress', 'Coat',\n",
    "               'Sandal', 'Shirt', 'Sneaker', 'Bag', 'Ankle boot']\n",
    "#60,000 images in the training set -  each image represented as 28 x 28 pixels\n",
    "train_images.shape \n",
    "#60,000 labels in the training set\n",
    "len(train_labels)\n",
    "train_labels      #Each label is an integer between 0 and 9\n",
    "\n",
    "#10,000 images in the test set - each image is represented as 28 x 28 pixels\n",
    "test_images.shape\n",
    "#10,000 images labels\n",
    "len(test_labels)\n",
    "\n",
    "#------------ PRE-PROCESS DATA -------------\n",
    "plt.figure()\n",
    "plt.imshow(train_images[0])\n",
    "plt.colorbar()\n",
    "plt.grid(False)\n",
    "plt.show()\n",
    "#pixel values range from 0 to 255\n",
    "\n",
    "#Scale these values to range from 0 to 1\n",
    "train_images = train_images / 255.0\n",
    "test_images = test_images / 255.0\n",
    "\n",
    "#first 25 images from the training set and display the class name below each image.\n",
    "plt.figure(figsize=(10,10))\n",
    "for i in range(25):\n",
    "    plt.subplot(5,5,i+1)\n",
    "    plt.xticks([])\n",
    "    plt.yticks([])\n",
    "    plt.grid(False)\n",
    "    plt.imshow(train_images[i], cmap=plt.cm.binary)\n",
    "    plt.xlabel(class_names[train_labels[i]])\n",
    "plt.show()"
   ]
  },
  {
   "cell_type": "markdown",
   "metadata": {
    "id": "WXrTAjBGtCXp"
   },
   "source": [
    "**Model 1:**\n",
    "\n",
    "2-layer feedforward neural network with ReLU activation function"
   ]
  },
  {
   "cell_type": "code",
   "execution_count": 129,
   "metadata": {
    "colab": {
     "base_uri": "https://localhost:8080/",
     "height": 1000
    },
    "id": "pjBaGBZXs33Y",
    "outputId": "e9fb0e0d-a5b8-48f7-f932-09226c12e440"
   },
   "outputs": [
    {
     "name": "stdout",
     "output_type": "stream",
     "text": [
      "Epoch 1/10\n",
      "1875/1875 [==============================] - 4s 2ms/step - loss: 0.6315 - accuracy: 0.7825\n",
      "Epoch 2/10\n",
      "1875/1875 [==============================] - 4s 2ms/step - loss: 0.3895 - accuracy: 0.8602\n",
      "Epoch 3/10\n",
      "1875/1875 [==============================] - 4s 2ms/step - loss: 0.3347 - accuracy: 0.8794\n",
      "Epoch 4/10\n",
      "1875/1875 [==============================] - 4s 2ms/step - loss: 0.3185 - accuracy: 0.8816\n",
      "Epoch 5/10\n",
      "1875/1875 [==============================] - 4s 2ms/step - loss: 0.2980 - accuracy: 0.8896\n",
      "Epoch 6/10\n",
      "1875/1875 [==============================] - 4s 2ms/step - loss: 0.2804 - accuracy: 0.8951\n",
      "Epoch 7/10\n",
      "1875/1875 [==============================] - 4s 2ms/step - loss: 0.2609 - accuracy: 0.9038\n",
      "Epoch 8/10\n",
      "1875/1875 [==============================] - 4s 2ms/step - loss: 0.2496 - accuracy: 0.9088\n",
      "Epoch 9/10\n",
      "1875/1875 [==============================] - 4s 2ms/step - loss: 0.2454 - accuracy: 0.9093\n",
      "Epoch 10/10\n",
      "1875/1875 [==============================] - 4s 2ms/step - loss: 0.2322 - accuracy: 0.9145\n",
      "313/313 - 0s - loss: 0.3467 - accuracy: 0.8818\n",
      "Test accuracy: 0.8817999958992004\n"
     ]
    },
    {
     "data": {
      "image/png": "[encoded data removed]",
      "text/plain": [
       "<Figure size 432x216 with 2 Axes>"
      ]
     },
     "metadata": {
      "needs_background": "light",
      "tags": []
     },
     "output_type": "display_data"
    },
    {
     "data": {
      "image/png": "[encoded data removed]",
      "text/plain": [
       "<Figure size 432x216 with 2 Axes>"
      ]
     },
     "metadata": {
      "needs_background": "light",
      "tags": []
     },
     "output_type": "display_data"
    },
    {
     "data": {
      "image/png": "[encoded data removed]",
      "text/plain": [
       "<Figure size 864x720 with 30 Axes>"
      ]
     },
     "metadata": {
      "needs_background": "light",
      "tags": []
     },
     "output_type": "display_data"
    },
    {
     "name": "stdout",
     "output_type": "stream",
     "text": [
      "(28, 28)\n",
      "(1, 28, 28)\n",
      "[[5.2043524e-06 2.0408588e-15 9.9972087e-01 3.8958237e-14 2.6277840e-04\n",
      "  3.3463475e-12 1.1104355e-05 1.8219838e-14 3.9468551e-10 2.6749836e-15]]\n"
     ]
    },
    {
     "data": {
      "application/vnd.google.colaboratory.intrinsic+json": {
       "type": "string"
      },
      "text/plain": [
       "'Pullover'"
      ]
     },
     "execution_count": 129,
     "metadata": {
      "tags": []
     },
     "output_type": "execute_result"
    },
    {
     "data": {
      "image/png": "[encoded data removed]",
      "text/plain": [
       "<Figure size 432x288 with 1 Axes>"
      ]
     },
     "metadata": {
      "needs_background": "light",
      "tags": []
     },
     "output_type": "display_data"
    }
   ],
   "source": [
    "#---------- BUILD MODEL 1: ReLU---------\n",
    "\n",
    "#Set up the layers\n",
    "model = tf.keras.Sequential([\n",
    "    tf.keras.layers.Flatten(input_shape=(28, 28)),  #transforms the format of the images from a two-dimensional array (of 28 by 28 pixels) to a one-dimensional array (of 28 * 28 = 784 pixels). \n",
    "    tf.keras.layers.Dense(128, activation='relu'),  #Dense layer with 128 nodes (or neurons)\n",
    "    tf.keras.layers.Dense(10)                       #last layer returns a logits array with length of 10.\n",
    "])\n",
    "\n",
    "#Compile the model\n",
    "model.compile(optimizer='adam',\n",
    "              loss= tf.keras.losses.SparseCategoricalCrossentropy(from_logits=True),\n",
    "              metrics=['accuracy'])\n",
    "\n",
    "\n",
    "#Train Model\n",
    "model.fit(train_images, train_labels, epochs=10)\n",
    "#Test Model\n",
    "test_loss1, test_acc1 = model.evaluate(test_images,  test_labels, verbose=2)\n",
    "print('Test accuracy:', test_acc1)\n",
    "\n",
    "#Make predictions\n",
    "probability_model = tf.keras.Sequential([model, tf.keras.layers.Softmax()])\n",
    "predictions = probability_model.predict(test_images)  #predicted the label for each image in the testing set\n",
    "predictions[0]  \n",
    "np.argmax(predictions[0]) #label that has the highest confidence value\n",
    "class_names[9]            #the model is most confident that this image is an ankle boot\n",
    "test_labels[0]            #Examining the test label shows that this classification is correct \n",
    "\n",
    "\n",
    "## ------------- Verify Predictions --------\n",
    "#To look at the full set of 10 class predictions:\n",
    "\n",
    "def plot_image(i, predictions_array, true_label, img):\n",
    "  true_label, img = true_label[i], img[i]\n",
    "  plt.grid(False)\n",
    "  plt.xticks([])\n",
    "  plt.yticks([])\n",
    "\n",
    "  plt.imshow(img, cmap=plt.cm.binary)\n",
    "\n",
    "  predicted_label = np.argmax(predictions_array)\n",
    "  if predicted_label == true_label:\n",
    "    color = 'blue'\n",
    "  else:\n",
    "    color = 'red'\n",
    "\n",
    "  plt.xlabel(\"{} {:2.0f}% ({})\".format(class_names[predicted_label],\n",
    "                                100*np.max(predictions_array),\n",
    "                                class_names[true_label]),\n",
    "                                color=color)\n",
    "\n",
    "def plot_value_array(i, predictions_array, true_label):\n",
    "  true_label = true_label[i]\n",
    "  plt.grid(False)\n",
    "  plt.xticks(range(10))\n",
    "  plt.yticks([])\n",
    "  thisplot = plt.bar(range(10), predictions_array, color=\"#777777\")\n",
    "  plt.ylim([0, 1])\n",
    "  predicted_label = np.argmax(predictions_array)\n",
    "  \n",
    "  thisplot[predicted_label].set_color('red')\n",
    "  thisplot[true_label].set_color('blue')\n",
    "\n",
    "\n",
    "i = 0\n",
    "plt.figure(figsize=(6,3))\n",
    "plt.subplot(1,2,1)\n",
    "plot_image(i, predictions[i], test_labels, test_images)\n",
    "plt.subplot(1,2,2)\n",
    "plot_value_array(i, predictions[i],  test_labels)\n",
    "plt.show()\n",
    "\n",
    "i = 12\n",
    "plt.figure(figsize=(6,3))\n",
    "plt.subplot(1,2,1)\n",
    "plot_image(i, predictions[i], test_labels, test_images)\n",
    "plt.subplot(1,2,2)\n",
    "plot_value_array(i, predictions[i],  test_labels)\n",
    "plt.show()\n",
    "\n",
    "# Plot the first X test images, their predicted labels, and the true labels.\n",
    "# Color correct predictions in blue and incorrect predictions in red.\n",
    "num_rows = 5\n",
    "num_cols = 3\n",
    "num_images = num_rows*num_cols\n",
    "plt.figure(figsize=(2*2*num_cols, 2*num_rows))\n",
    "for i in range(num_images):\n",
    "  plt.subplot(num_rows, 2*num_cols, 2*i+1)\n",
    "  plot_image(i, predictions[i], test_labels, test_images)\n",
    "  plt.subplot(num_rows, 2*num_cols, 2*i+2)\n",
    "  plot_value_array(i, predictions[i], test_labels)\n",
    "plt.tight_layout()\n",
    "plt.show()\n",
    "\n",
    "#use the trained model to make a prediction about a single image\n",
    "img = test_images[1] # Grab an image from the test dataset.\n",
    "print(img.shape)\n",
    "\n",
    "# Add the image to a batch where it's the only member. \n",
    "img = (np.expand_dims(img,0))\n",
    "print(img.shape)\n",
    "\n",
    "#predict the correct label for this image\n",
    "predictions_single = probability_model.predict(img)\n",
    "print(predictions_single)\n",
    "\n",
    "plot_value_array(1, predictions_single[0], test_labels)\n",
    "_ = plt.xticks(range(10), class_names, rotation=45)\n",
    "\n",
    "np.argmax(predictions_single[0])\n",
    "class_names[2]\n"
   ]
  },
  {
   "cell_type": "markdown",
   "metadata": {
    "id": "MfKTs9OItYd3"
   },
   "source": [
    "**Model 2:** \n",
    "\n",
    "2-layer feedforward neural network with LEAKY ReLU activation function ($f(x) = x$ if  $x > 0$, else $ f(x) = 0.01*x$)."
   ]
  },
  {
   "cell_type": "code",
   "execution_count": 111,
   "metadata": {
    "colab": {
     "base_uri": "https://localhost:8080/"
    },
    "id": "g5KA1vyht81w",
    "outputId": "1a26b2d5-03cf-42b0-e74e-7dcb8f35f5a1"
   },
   "outputs": [
    {
     "name": "stdout",
     "output_type": "stream",
     "text": [
      "Epoch 1/10\n",
      "1875/1875 [==============================] - 4s 2ms/step - loss: 0.6211 - accuracy: 0.7835\n",
      "Epoch 2/10\n",
      "1875/1875 [==============================] - 4s 2ms/step - loss: 0.3775 - accuracy: 0.8641\n",
      "Epoch 3/10\n",
      "1875/1875 [==============================] - 4s 2ms/step - loss: 0.3384 - accuracy: 0.8758\n",
      "Epoch 4/10\n",
      "1875/1875 [==============================] - 4s 2ms/step - loss: 0.3082 - accuracy: 0.8872\n",
      "Epoch 5/10\n",
      "1875/1875 [==============================] - 4s 2ms/step - loss: 0.2869 - accuracy: 0.8921\n",
      "Epoch 6/10\n",
      "1875/1875 [==============================] - 4s 2ms/step - loss: 0.2746 - accuracy: 0.8999\n",
      "Epoch 7/10\n",
      "1875/1875 [==============================] - 4s 2ms/step - loss: 0.2633 - accuracy: 0.9010\n",
      "Epoch 8/10\n",
      "1875/1875 [==============================] - 4s 2ms/step - loss: 0.2523 - accuracy: 0.9067\n",
      "Epoch 9/10\n",
      "1875/1875 [==============================] - 4s 2ms/step - loss: 0.2468 - accuracy: 0.9094\n",
      "Epoch 10/10\n",
      "1875/1875 [==============================] - 4s 2ms/step - loss: 0.2358 - accuracy: 0.9127\n",
      "313/313 - 0s - loss: 0.3373 - accuracy: 0.8803\n",
      "Test accuracy: 0.880299985408783\n"
     ]
    },
    {
     "data": {
      "text/plain": [
       "9"
      ]
     },
     "execution_count": 111,
     "metadata": {
      "tags": []
     },
     "output_type": "execute_result"
    }
   ],
   "source": [
    "#---------- BUILD MODEL 2: leaky ReLU---------\n",
    "#Set up the layers\n",
    "model_2 = tf.keras.Sequential([\n",
    "    tf.keras.layers.Flatten(input_shape=(28, 28)),  #transforms the format of the images from a two-dimensional array (of 28 by 28 pixels) to a one-dimensional array (of 28 * 28 = 784 pixels). \n",
    "    tf.keras.layers.Dense(128, activation=tf.keras.layers.LeakyReLU(alpha=0.01)),  #leaky relu activation -- Dense layer with 128 nodes (or neurons)\n",
    "    tf.keras.layers.Dense(10)                       #last layer returns a logits array with length of 10.\n",
    "])\n",
    "\n",
    "#Compile the model\n",
    "model_2.compile(optimizer='adam',\n",
    "              loss= tf.keras.losses.SparseCategoricalCrossentropy(from_logits=True),\n",
    "              metrics=['accuracy'])\n",
    "\n",
    "#Train Model\n",
    "model_2.fit(train_images, train_labels, epochs=10)\n",
    "#Test Model\n",
    "test_loss, test_acc = model_2.evaluate(test_images,  test_labels, verbose=2)\n",
    "print('Test accuracy w/ Adam optimizer:', test_acc)\n"
   ]
  },
  {
   "cell_type": "markdown",
   "metadata": {
    "id": "JdOtUVmMRAOx"
   },
   "source": [
    "**-  Discuss how optimizer choice influences performance.**\n",
    "\n"
   ]
  },
  {
   "cell_type": "markdown",
   "metadata": {
    "id": "7mgeHjqJzFeu"
   },
   "source": [
    "Model 1 with different optimizers:"
   ]
  },
  {
   "cell_type": "code",
   "execution_count": 123,
   "metadata": {
    "colab": {
     "base_uri": "https://localhost:8080/",
     "height": 1000
    },
    "id": "oGOH5mBaRCOx",
    "outputId": "18b371e2-e0cc-4e19-9709-d50e4a3e9959"
   },
   "outputs": [
    {
     "name": "stdout",
     "output_type": "stream",
     "text": [
      "Epoch 1/10\n",
      "1875/1875 [==============================] - 3s 1ms/step - loss: 0.4632 - accuracy: 0.8401\n",
      "Epoch 2/10\n",
      "1875/1875 [==============================] - 2s 1ms/step - loss: 0.4481 - accuracy: 0.8439\n",
      "Epoch 3/10\n",
      "1875/1875 [==============================] - 2s 1ms/step - loss: 0.4362 - accuracy: 0.8494\n",
      "Epoch 4/10\n",
      "1875/1875 [==============================] - 2s 1ms/step - loss: 0.4261 - accuracy: 0.8557\n",
      "Epoch 5/10\n",
      "1875/1875 [==============================] - 2s 1ms/step - loss: 0.4183 - accuracy: 0.8550\n",
      "Epoch 6/10\n",
      "1875/1875 [==============================] - 2s 1ms/step - loss: 0.4043 - accuracy: 0.8594\n",
      "Epoch 7/10\n",
      "1875/1875 [==============================] - 2s 1ms/step - loss: 0.4063 - accuracy: 0.8596\n",
      "Epoch 8/10\n",
      "1875/1875 [==============================] - 2s 1ms/step - loss: 0.3979 - accuracy: 0.8617\n",
      "Epoch 9/10\n",
      "1875/1875 [==============================] - 2s 1ms/step - loss: 0.3922 - accuracy: 0.8642\n",
      "Epoch 10/10\n",
      "1875/1875 [==============================] - 2s 1ms/step - loss: 0.3871 - accuracy: 0.8681\n",
      "313/313 - 0s - loss: 0.4315 - accuracy: 0.8467\n",
      "Test accuracy w/ SGD optimizer: 0.8467000126838684\n",
      "Epoch 1/10\n",
      "1875/1875 [==============================] - 3s 1ms/step - loss: 0.4221 - accuracy: 0.8545\n",
      "Epoch 2/10\n",
      "1875/1875 [==============================] - 3s 1ms/step - loss: 0.3987 - accuracy: 0.8606\n",
      "Epoch 3/10\n",
      "1875/1875 [==============================] - 3s 1ms/step - loss: 0.3897 - accuracy: 0.8649\n",
      "Epoch 4/10\n",
      "1875/1875 [==============================] - 3s 1ms/step - loss: 0.3729 - accuracy: 0.8686\n",
      "Epoch 5/10\n",
      "1875/1875 [==============================] - 3s 1ms/step - loss: 0.3647 - accuracy: 0.8730\n",
      "Epoch 6/10\n",
      "1875/1875 [==============================] - 3s 1ms/step - loss: 0.3575 - accuracy: 0.8739\n",
      "Epoch 7/10\n",
      "1875/1875 [==============================] - 3s 1ms/step - loss: 0.3505 - accuracy: 0.8776\n",
      "Epoch 8/10\n",
      "1875/1875 [==============================] - 3s 1ms/step - loss: 0.3475 - accuracy: 0.8775\n",
      "Epoch 9/10\n",
      "1875/1875 [==============================] - 3s 1ms/step - loss: 0.3459 - accuracy: 0.8807\n",
      "Epoch 10/10\n",
      "1875/1875 [==============================] - 3s 1ms/step - loss: 0.3354 - accuracy: 0.8819\n",
      "313/313 - 0s - loss: 0.4088 - accuracy: 0.8610\n",
      "Test accuracy w/ RMSprop optimizer: 0.8610000014305115\n",
      "Epoch 1/10\n",
      "1875/1875 [==============================] - 3s 1ms/step - loss: 0.3169 - accuracy: 0.8906\n",
      "Epoch 2/10\n",
      "1875/1875 [==============================] - 3s 1ms/step - loss: 0.3056 - accuracy: 0.8916\n",
      "Epoch 3/10\n",
      "1875/1875 [==============================] - 2s 1ms/step - loss: 0.3105 - accuracy: 0.8923\n",
      "Epoch 4/10\n",
      "1875/1875 [==============================] - 2s 1ms/step - loss: 0.3019 - accuracy: 0.8950\n",
      "Epoch 5/10\n",
      "1875/1875 [==============================] - 3s 1ms/step - loss: 0.3033 - accuracy: 0.8944\n",
      "Epoch 6/10\n",
      "1875/1875 [==============================] - 3s 1ms/step - loss: 0.3029 - accuracy: 0.8938\n",
      "Epoch 7/10\n",
      "1875/1875 [==============================] - 2s 1ms/step - loss: 0.2965 - accuracy: 0.8957\n",
      "Epoch 8/10\n",
      "1875/1875 [==============================] - 3s 1ms/step - loss: 0.3016 - accuracy: 0.8950\n",
      "Epoch 9/10\n",
      "1875/1875 [==============================] - 2s 1ms/step - loss: 0.2997 - accuracy: 0.8947\n",
      "Epoch 10/10\n",
      "1875/1875 [==============================] - 2s 1ms/step - loss: 0.3006 - accuracy: 0.8963\n",
      "313/313 - 0s - loss: 0.3929 - accuracy: 0.8651\n",
      "Test accuracy w/ Adadelta optimizer: 0.8651000261306763\n"
     ]
    },
    {
     "data": {
      "image/png": "[encoded data removed]",
      "text/plain": [
       "<Figure size 432x288 with 1 Axes>"
      ]
     },
     "metadata": {
      "needs_background": "light",
      "tags": []
     },
     "output_type": "display_data"
    }
   ],
   "source": [
    "# ---- USING SGD OPTIMIZER-----\n",
    "#Compile the model\n",
    "model.compile(optimizer='SGD',\n",
    "              loss= tf.keras.losses.SparseCategoricalCrossentropy(from_logits=True),\n",
    "              metrics=['accuracy'])\n",
    "\n",
    "#Train Model\n",
    "model.fit(train_images, train_labels, epochs=10)\n",
    "#Test Model\n",
    "test_loss_SGD1, test_acc_SGD1 = model.evaluate(test_images,  test_labels, verbose=2)\n",
    "print('Test accuracy w/ SGD optimizer:', test_acc_SGD1)\n",
    "\n",
    "# ---- USING RMSprop OPTIMIZER-----\n",
    "#Compile the model\n",
    "model.compile(optimizer='RMSprop',\n",
    "              loss= tf.keras.losses.SparseCategoricalCrossentropy(from_logits=True),\n",
    "              metrics=['accuracy'])\n",
    "\n",
    "#Train Model\n",
    "model.fit(train_images, train_labels, epochs=10)\n",
    "#Test Model\n",
    "test_loss_RMS1, test_acc_RMS1 = model.evaluate(test_images,  test_labels, verbose=2)\n",
    "print('Test accuracy w/ RMSprop optimizer:', test_acc_RMS1)\n",
    "\n",
    "# ---- USING Adadelta OPTIMIZER-----\n",
    "#Compile the model\n",
    "model.compile(optimizer='Adadelta',\n",
    "              loss= tf.keras.losses.SparseCategoricalCrossentropy(from_logits=True),\n",
    "              metrics=['accuracy'])\n",
    "\n",
    "#Train Model\n",
    "model.fit(train_images, train_labels, epochs=10)\n",
    "#Test Model\n",
    "test_loss_Adadelta1, test_acc_Adadelta1 = model.evaluate(test_images,  test_labels, verbose=2)\n",
    "print('Test accuracy w/ Adadelta optimizer:', test_acc_Adadelta1)\n",
    "\n",
    "#Plot accuracies\n",
    "x = [\"Adam\", \"SGD\",\"RMSprop\" , \"Adadelta\"]\n",
    "y = [test_acc1, test_acc_SGD1, test_acc_RMS1, test_acc_Adadelta1]\n",
    "plt.scatter(x, y)\n",
    "plt.xlabel(\"Optimizers\")\n",
    "plt.ylabel(\"Accuracy\")\n",
    "plt.show()"
   ]
  },
  {
   "cell_type": "markdown",
   "metadata": {
    "id": "afB4TDBB5tQ9"
   },
   "source": [
    "From the above graph, we can see that the optimizer that yields the best accuracy for model 1 is SGD with 0.8949 accuracy"
   ]
  },
  {
   "cell_type": "markdown",
   "metadata": {
    "id": "HA1MX4HCzI4k"
   },
   "source": [
    "Model 2 with different optimizers: "
   ]
  },
  {
   "cell_type": "code",
   "execution_count": 125,
   "metadata": {
    "colab": {
     "base_uri": "https://localhost:8080/",
     "height": 279
    },
    "id": "D-e6V5LFzNb_",
    "outputId": "9cf497c0-11d1-48de-8754-846d693ae4dc"
   },
   "outputs": [
    {
     "data": {
      "image/png": "[encoded data removed]",
      "text/plain": [
       "<Figure size 432x288 with 1 Axes>"
      ]
     },
     "metadata": {
      "needs_background": "light",
      "tags": []
     },
     "output_type": "display_data"
    }
   ],
   "source": [
    "# ---- USING SGD OPTIMIZER-----\n",
    "#Compile the model\n",
    "model_2.compile(optimizer='SGD',\n",
    "              loss= tf.keras.losses.SparseCategoricalCrossentropy(from_logits=True),\n",
    "              metrics=['accuracy'])\n",
    "\n",
    "#Train Model\n",
    "model_2.fit(train_images, train_labels, epochs=10)\n",
    "#Test Model\n",
    "test_loss_SGD, test_acc_SGD = model_2.evaluate(test_images,  test_labels, verbose=2)\n",
    "print('Test accuracy w/ SGD optimizer:', test_acc_SGD)\n",
    "\n",
    "# ---- USING RMSprop OPTIMIZER-----\n",
    "#Compile the model\n",
    "model_2.compile(optimizer='RMSprop',\n",
    "              loss= tf.keras.losses.SparseCategoricalCrossentropy(from_logits=True),\n",
    "              metrics=['accuracy'])\n",
    "\n",
    "#Train Model\n",
    "model_2.fit(train_images, train_labels, epochs=10)\n",
    "#Test Model\n",
    "test_loss_RMS, test_acc_RMS = model_2.evaluate(test_images,  test_labels, verbose=2)\n",
    "print('Test accuracy w/ RMSprop optimizer:', test_acc_RMS)\n",
    "\n",
    "# ---- USING Adadelta OPTIMIZER-----\n",
    "#Compile the model\n",
    "model_2.compile(optimizer='Adadelta',\n",
    "              loss= tf.keras.losses.SparseCategoricalCrossentropy(from_logits=True),\n",
    "              metrics=['accuracy'])\n",
    "\n",
    "#Train Model\n",
    "model_2.fit(train_images, train_labels, epochs=10)\n",
    "#Test Model\n",
    "test_loss_Adadelta, test_acc_Adadelta = model_2.evaluate(test_images,  test_labels, verbose=2)\n",
    "print('Test accuracy w/ Adadelta optimizer:', test_acc_Adadelta)\n",
    "\n",
    "#Plot accuracies\n",
    "x = [\"Adam\", \"SGD\",\"RMSprop\" , \"Adadelta\"]\n",
    "y = [test_acc, test_acc_SGD, test_acc_RMS, test_acc_Adadelta]\n",
    "plt.scatter(x, y)\n",
    "plt.xlabel(\"Optimizers\")\n",
    "plt.ylabel(\"Accuracy\")\n",
    "plt.show()"
   ]
  },
  {
   "cell_type": "markdown",
   "metadata": {
    "id": "4dezHqiu2vOo"
   },
   "source": [
    "Again, from the above graph, we can see that the optimizer that yields the best accuracy for model 2 is SGD. "
   ]
  },
  {
   "cell_type": "markdown",
   "metadata": {
    "id": "kny-O5IdRCcR"
   },
   "source": [
    "**-  What happens when the number of hidden units chosen is much smaller. Similarly, what happens when the number of hidden units chosen is much higher?**"
   ]
  },
  {
   "cell_type": "code",
   "execution_count": 126,
   "metadata": {
    "colab": {
     "base_uri": "https://localhost:8080/",
     "height": 1000
    },
    "id": "JJxnq1-eRDlz",
    "outputId": "e6fee110-b1e2-44ed-a52d-47e4620da3f6"
   },
   "outputs": [
    {
     "name": "stdout",
     "output_type": "stream",
     "text": [
      "Epoch 1/10\n",
      "1875/1875 [==============================] - 3s 1ms/step - loss: 1.1966 - accuracy: 0.5968\n",
      "Epoch 2/10\n",
      "1875/1875 [==============================] - 2s 1ms/step - loss: 0.5694 - accuracy: 0.8053\n",
      "Epoch 3/10\n",
      "1875/1875 [==============================] - 2s 1ms/step - loss: 0.5011 - accuracy: 0.8276\n",
      "Epoch 4/10\n",
      "1875/1875 [==============================] - 2s 1ms/step - loss: 0.4780 - accuracy: 0.8344\n",
      "Epoch 5/10\n",
      "1875/1875 [==============================] - 2s 1ms/step - loss: 0.4566 - accuracy: 0.8418\n",
      "Epoch 6/10\n",
      "1875/1875 [==============================] - 2s 1ms/step - loss: 0.4433 - accuracy: 0.8476\n",
      "Epoch 7/10\n",
      "1875/1875 [==============================] - 2s 1ms/step - loss: 0.4311 - accuracy: 0.8504\n",
      "Epoch 8/10\n",
      "1875/1875 [==============================] - 2s 1ms/step - loss: 0.4301 - accuracy: 0.8507\n",
      "Epoch 9/10\n",
      "1875/1875 [==============================] - 3s 1ms/step - loss: 0.4159 - accuracy: 0.8561\n",
      "Epoch 10/10\n",
      "1875/1875 [==============================] - 3s 1ms/step - loss: 0.4085 - accuracy: 0.8590\n",
      "313/313 - 0s - loss: 0.4488 - accuracy: 0.8428\n",
      "Test accuracy w/ SGD optimizer: 0.8428000211715698\n",
      "Epoch 1/10\n",
      "1875/1875 [==============================] - 5s 3ms/step - loss: 0.9855 - accuracy: 0.6882\n",
      "Epoch 2/10\n",
      "1875/1875 [==============================] - 5s 3ms/step - loss: 0.5193 - accuracy: 0.8263\n",
      "Epoch 3/10\n",
      "1875/1875 [==============================] - 6s 3ms/step - loss: 0.4733 - accuracy: 0.8383\n",
      "Epoch 4/10\n",
      "1875/1875 [==============================] - 6s 3ms/step - loss: 0.4322 - accuracy: 0.8519\n",
      "Epoch 5/10\n",
      "1875/1875 [==============================] - 6s 3ms/step - loss: 0.4190 - accuracy: 0.8560\n",
      "Epoch 6/10\n",
      "1875/1875 [==============================] - 5s 3ms/step - loss: 0.4051 - accuracy: 0.8597\n",
      "Epoch 7/10\n",
      "1875/1875 [==============================] - 5s 3ms/step - loss: 0.3913 - accuracy: 0.8662\n",
      "Epoch 8/10\n",
      "1875/1875 [==============================] - 5s 3ms/step - loss: 0.3816 - accuracy: 0.8676\n",
      "Epoch 9/10\n",
      "1875/1875 [==============================] - 5s 3ms/step - loss: 0.3701 - accuracy: 0.8702\n",
      "Epoch 10/10\n",
      "1875/1875 [==============================] - 5s 3ms/step - loss: 0.3648 - accuracy: 0.8732\n",
      "313/313 - 0s - loss: 0.4009 - accuracy: 0.8581\n",
      "Test accuracy w/ SGD optimizer : 0.8580999970436096\n"
     ]
    },
    {
     "data": {
      "image/png": "[encoded data removed]",
      "text/plain": [
       "<Figure size 432x288 with 1 Axes>"
      ]
     },
     "metadata": {
      "needs_background": "light",
      "tags": []
     },
     "output_type": "display_data"
    }
   ],
   "source": [
    "#BEST MODEL == MODEL 2 WITH SGD OPTIMIZER, with different hidden units -- 20 \n",
    "\n",
    "#Set up the layers\n",
    "model_2 = tf.keras.Sequential([\n",
    "    tf.keras.layers.Flatten(input_shape=(28, 28)),  #transforms the format of the images from a two-dimensional array (of 28 by 28 pixels) to a one-dimensional array (of 28 * 28 = 784 pixels). \n",
    "    tf.keras.layers.Dense(20, activation=tf.keras.layers.LeakyReLU(alpha=0.01)),  #leaky relu activation -- 20 hidden units\n",
    "    tf.keras.layers.Dense(10)                       #last layer returns a logits array with length of 10.\n",
    "])\n",
    "\n",
    "#Compile the model\n",
    "model_2.compile(optimizer='SGD',\n",
    "              loss= tf.keras.losses.SparseCategoricalCrossentropy(from_logits=True),\n",
    "              metrics=['accuracy'])\n",
    "\n",
    "#Train Model\n",
    "model_2.fit(train_images, train_labels, epochs=10)\n",
    "#Test Model\n",
    "test_loss_SGD_20, test_acc_SGD_20 = model_2.evaluate(test_images,  test_labels, verbose=2)\n",
    "print('Test accuracy w/ SGD optimizer:', test_acc_SGD_20)\n",
    "\n",
    "#BEST MODEL == MODEL 2 WITH SGD OPTIMIZER, with different hidden units -- 300 \n",
    "\n",
    "#Set up the layers\n",
    "model_2 = tf.keras.Sequential([\n",
    "    tf.keras.layers.Flatten(input_shape=(28, 28)),  #transforms the format of the images from a two-dimensional array (of 28 by 28 pixels) to a one-dimensional array (of 28 * 28 = 784 pixels). \n",
    "    tf.keras.layers.Dense(300, activation=tf.keras.layers.LeakyReLU(alpha=0.01)),  #leaky relu activation -- 20 hidden units\n",
    "    tf.keras.layers.Dense(10)                       #last layer returns a logits array with length of 10.\n",
    "])\n",
    "\n",
    "#Compile the model\n",
    "model_2.compile(optimizer='SGD',\n",
    "              loss= tf.keras.losses.SparseCategoricalCrossentropy(from_logits=True),\n",
    "              metrics=['accuracy'])\n",
    "\n",
    "#Train Model\n",
    "model_2.fit(train_images, train_labels, epochs=10)\n",
    "#Test Model\n",
    "test_loss_SGD_300, test_acc_SGD_300 = model_2.evaluate(test_images,  test_labels, verbose=2)\n",
    "print('Test accuracy w/ SGD optimizer :', test_acc_SGD_300)\n",
    "\n",
    "\n",
    "#Plot accuracies\n",
    "x = [\"20\", \"128\",\"300\"]\n",
    "y = [test_acc_SGD_20, test_acc_SGD, test_acc_SGD_300]\n",
    "plt.scatter(x, y)\n",
    "plt.xlabel(\"Hidden Units\")\n",
    "plt.ylabel(\"Accuracy\")\n",
    "plt.show()\n",
    "\n"
   ]
  },
  {
   "cell_type": "markdown",
   "metadata": {
    "id": "vUe_zu3lDrIY"
   },
   "source": [
    "When we change the number of hidden units, the test accuracy also changes. In our case, the best model model had 128 hidden units and used the SGD optimizer.  It is interesting to see that the model with 300 hiden units decreased the accuracy of the model, we might be overfitting. "
   ]
  }
 ],
 "metadata": {
  "colab": {
   "name": "Copy of Deep Learning - Assignment1.ipynb",
   "provenance": []
  },
  "kernelspec": {
   "display_name": "Python 3",
   "language": "python",
   "name": "python3"
  },
  "language_info": {
   "codemirror_mode": {
    "name": "ipython",
    "version": 3
   },
   "file_extension": ".py",
   "mimetype": "text/x-python",
   "name": "python",
   "nbconvert_exporter": "python",
   "pygments_lexer": "ipython3",
   "version": "3.7.4"
  }
 },
 "nbformat": 4,
 "nbformat_minor": 1
}
